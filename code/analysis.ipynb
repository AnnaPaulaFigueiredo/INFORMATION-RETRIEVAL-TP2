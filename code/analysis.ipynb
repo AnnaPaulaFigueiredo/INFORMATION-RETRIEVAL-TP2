{
 "cells": [
  {
   "cell_type": "code",
   "execution_count": 1,
   "metadata": {},
   "outputs": [
    {
     "name": "stderr",
     "output_type": "stream",
     "text": [
      "c:\\Users\\annap\\miniconda3\\envs\\ri_tp2\\lib\\site-packages\\tqdm\\auto.py:21: TqdmWarning: IProgress not found. Please update jupyter and ipywidgets. See https://ipywidgets.readthedocs.io/en/stable/user_install.html\n",
      "  from .autonotebook import tqdm as notebook_tqdm\n",
      "[nltk_data] Downloading package stopwords to\n",
      "[nltk_data]     C:\\Users\\annap\\AppData\\Roaming\\nltk_data...\n",
      "[nltk_data]   Package stopwords is already up-to-date!\n"
     ]
    }
   ],
   "source": [
    "from bs4 import BeautifulSoup\n",
    "from collections import Counter\n",
    "import nltk \n",
    "from nltk.corpus import stopwords\n",
    "import os\n",
    "import pandas as pd\n",
    "import numpy as np\n",
    "import string\n",
    "import re\n",
    "from sentence_transformers import SentenceTransformer\n",
    "from sklearn.feature_extraction.text import\tTfidfVectorizer\n",
    "import time\n",
    "from random import seed, sample\n",
    "import matplotlib.pyplot as plt\n",
    "import warnings\n",
    "import seaborn as sns\n",
    "from tqdm import tqdm\n",
    "\n",
    "seed(26)\n",
    "\n",
    "warnings.filterwarnings(\"ignore\")\n",
    "\n",
    "nltk.download('stopwords')\n",
    "\n",
    "sns.set_palette('gray')\n",
    "sns.set_style(\"whitegrid\")"
   ]
  },
  {
   "cell_type": "code",
   "execution_count": 2,
   "metadata": {},
   "outputs": [],
   "source": [
    "path_train = \"../data/training\"\n",
    "path_test = \"../data/test\""
   ]
  },
  {
   "cell_type": "markdown",
   "metadata": {},
   "source": [
    "# Read files"
   ]
  },
  {
   "cell_type": "code",
   "execution_count": 3,
   "metadata": {},
   "outputs": [],
   "source": [
    "def read_files(main_path:str)->pd.DataFrame:\n",
    "\n",
    "    path_list = []\n",
    "    file_list = []\n",
    "    content_list = []\n",
    "\n",
    "    for path in os.listdir(main_path):\n",
    "        _path = os.path.join(main_path, path)\n",
    "        if os.path.isdir(_path):\n",
    "            for file in os.listdir(_path):\n",
    "                _file = os.path.join(_path, file)\n",
    "                if os.path.isfile(_file):\n",
    "                    with open(_file, 'r',  errors='ignore') as f:\n",
    "                        content = f.read()\n",
    "                    path_list.append(path)\n",
    "                    file_list.append(file)\n",
    "                    content_list.append(content)\n",
    "\n",
    "    return pd.DataFrame( { 'number_file': file_list, 'target': path_list,  'content': content_list})"
   ]
  },
  {
   "cell_type": "code",
   "execution_count": 4,
   "metadata": {},
   "outputs": [
    {
     "data": {
      "text/html": [
       "<div>\n",
       "<style scoped>\n",
       "    .dataframe tbody tr th:only-of-type {\n",
       "        vertical-align: middle;\n",
       "    }\n",
       "\n",
       "    .dataframe tbody tr th {\n",
       "        vertical-align: top;\n",
       "    }\n",
       "\n",
       "    .dataframe thead th {\n",
       "        text-align: right;\n",
       "    }\n",
       "</style>\n",
       "<table border=\"1\" class=\"dataframe\">\n",
       "  <thead>\n",
       "    <tr style=\"text-align: right;\">\n",
       "      <th></th>\n",
       "      <th>number_file</th>\n",
       "      <th>target</th>\n",
       "      <th>content</th>\n",
       "    </tr>\n",
       "  </thead>\n",
       "  <tbody>\n",
       "    <tr>\n",
       "      <th>0</th>\n",
       "      <td>5</td>\n",
       "      <td>acq</td>\n",
       "      <td>\\n\\nCOMPUTER TERMINAL SYSTEMS &lt;CPML&gt; COMPLETES...</td>\n",
       "    </tr>\n",
       "    <tr>\n",
       "      <th>1</th>\n",
       "      <td>7</td>\n",
       "      <td>acq</td>\n",
       "      <td>\\n\\nOHIO MATTRESS &lt;OMT&gt; MAY HAVE LOWER 1ST QTR...</td>\n",
       "    </tr>\n",
       "    <tr>\n",
       "      <th>2</th>\n",
       "      <td>27</td>\n",
       "      <td>acq</td>\n",
       "      <td>\\n\\nMCLEAN'S &lt;MII&gt; U.S. LINES SETS ASSET TRANS...</td>\n",
       "    </tr>\n",
       "    <tr>\n",
       "      <th>3</th>\n",
       "      <td>28</td>\n",
       "      <td>acq</td>\n",
       "      <td>\\n\\nCHEMLAWN &lt;CHEM&gt; RISES ON HOPES FOR HIGHER ...</td>\n",
       "    </tr>\n",
       "    <tr>\n",
       "      <th>4</th>\n",
       "      <td>44</td>\n",
       "      <td>acq</td>\n",
       "      <td>\\n\\n&lt;COFAB INC&gt; BUYS GULFEX FOR UNDISCLOSED AM...</td>\n",
       "    </tr>\n",
       "  </tbody>\n",
       "</table>\n",
       "</div>"
      ],
      "text/plain": [
       "   number_file target                                            content\n",
       "0            5    acq  \\n\\nCOMPUTER TERMINAL SYSTEMS <CPML> COMPLETES...\n",
       "1            7    acq  \\n\\nOHIO MATTRESS <OMT> MAY HAVE LOWER 1ST QTR...\n",
       "2           27    acq  \\n\\nMCLEAN'S <MII> U.S. LINES SETS ASSET TRANS...\n",
       "3           28    acq  \\n\\nCHEMLAWN <CHEM> RISES ON HOPES FOR HIGHER ...\n",
       "4           44    acq  \\n\\n<COFAB INC> BUYS GULFEX FOR UNDISCLOSED AM..."
      ]
     },
     "execution_count": 4,
     "metadata": {},
     "output_type": "execute_result"
    }
   ],
   "source": [
    "df_train = read_files(path_train)\n",
    "df_train = df_train.astype({'number_file': int, 'content':str})\n",
    "df_train.head()"
   ]
  },
  {
   "cell_type": "code",
   "execution_count": 5,
   "metadata": {},
   "outputs": [
    {
     "data": {
      "text/html": [
       "<div>\n",
       "<style scoped>\n",
       "    .dataframe tbody tr th:only-of-type {\n",
       "        vertical-align: middle;\n",
       "    }\n",
       "\n",
       "    .dataframe tbody tr th {\n",
       "        vertical-align: top;\n",
       "    }\n",
       "\n",
       "    .dataframe thead th {\n",
       "        text-align: right;\n",
       "    }\n",
       "</style>\n",
       "<table border=\"1\" class=\"dataframe\">\n",
       "  <thead>\n",
       "    <tr style=\"text-align: right;\">\n",
       "      <th></th>\n",
       "      <th>number_file</th>\n",
       "      <th>target</th>\n",
       "      <th>content</th>\n",
       "    </tr>\n",
       "  </thead>\n",
       "  <tbody>\n",
       "    <tr>\n",
       "      <th>0</th>\n",
       "      <td>9613</td>\n",
       "      <td>acq</td>\n",
       "      <td>\\n\\nSUMITOMO BANK AIMS AT QUICK RECOVERY FROM ...</td>\n",
       "    </tr>\n",
       "    <tr>\n",
       "      <th>1</th>\n",
       "      <td>9618</td>\n",
       "      <td>acq</td>\n",
       "      <td>\\n\\nBOND CORP STILL CONSIDERING ATLAS MINING B...</td>\n",
       "    </tr>\n",
       "    <tr>\n",
       "      <th>2</th>\n",
       "      <td>9628</td>\n",
       "      <td>acq</td>\n",
       "      <td>\\n\\nCRA SOLD FORREST GOLD FOR 76 MLN DLRS - WH...</td>\n",
       "    </tr>\n",
       "    <tr>\n",
       "      <th>3</th>\n",
       "      <td>9643</td>\n",
       "      <td>acq</td>\n",
       "      <td>\\n\\nANHEUSER-BUSCH JOINS BID FOR SAN MIGUEL\\n\\...</td>\n",
       "    </tr>\n",
       "    <tr>\n",
       "      <th>4</th>\n",
       "      <td>9653</td>\n",
       "      <td>acq</td>\n",
       "      <td>\\n\\nMONIER SAYS BRITAIN'S REDLAND MAY BID FOR ...</td>\n",
       "    </tr>\n",
       "  </tbody>\n",
       "</table>\n",
       "</div>"
      ],
      "text/plain": [
       "   number_file target                                            content\n",
       "0         9613    acq  \\n\\nSUMITOMO BANK AIMS AT QUICK RECOVERY FROM ...\n",
       "1         9618    acq  \\n\\nBOND CORP STILL CONSIDERING ATLAS MINING B...\n",
       "2         9628    acq  \\n\\nCRA SOLD FORREST GOLD FOR 76 MLN DLRS - WH...\n",
       "3         9643    acq  \\n\\nANHEUSER-BUSCH JOINS BID FOR SAN MIGUEL\\n\\...\n",
       "4         9653    acq  \\n\\nMONIER SAYS BRITAIN'S REDLAND MAY BID FOR ..."
      ]
     },
     "execution_count": 5,
     "metadata": {},
     "output_type": "execute_result"
    }
   ],
   "source": [
    "df_test = read_files(path_test)\n",
    "df_test = df_test.astype({'number_file': int, 'content':str})\n",
    "df_test.head()"
   ]
  },
  {
   "cell_type": "code",
   "execution_count": 6,
   "metadata": {},
   "outputs": [
    {
     "name": "stdout",
     "output_type": "stream",
     "text": [
      "(11413, 3) 91\n",
      "(4024, 3) 91\n"
     ]
    }
   ],
   "source": [
    "print(df_train.shape, df_train.target.nunique())\n",
    "print(df_test.shape, df_test.target.nunique())"
   ]
  },
  {
   "cell_type": "code",
   "execution_count": 7,
   "metadata": {},
   "outputs": [
    {
     "data": {
      "text/html": [
       "<div>\n",
       "<style scoped>\n",
       "    .dataframe tbody tr th:only-of-type {\n",
       "        vertical-align: middle;\n",
       "    }\n",
       "\n",
       "    .dataframe tbody tr th {\n",
       "        vertical-align: top;\n",
       "    }\n",
       "\n",
       "    .dataframe thead th {\n",
       "        text-align: right;\n",
       "    }\n",
       "</style>\n",
       "<table border=\"1\" class=\"dataframe\">\n",
       "  <thead>\n",
       "    <tr style=\"text-align: right;\">\n",
       "      <th></th>\n",
       "      <th>target</th>\n",
       "      <th>count</th>\n",
       "    </tr>\n",
       "  </thead>\n",
       "  <tbody>\n",
       "    <tr>\n",
       "      <th>0</th>\n",
       "      <td>earn</td>\n",
       "      <td>1087</td>\n",
       "    </tr>\n",
       "    <tr>\n",
       "      <th>1</th>\n",
       "      <td>acq</td>\n",
       "      <td>719</td>\n",
       "    </tr>\n",
       "    <tr>\n",
       "      <th>2</th>\n",
       "      <td>unknown</td>\n",
       "      <td>280</td>\n",
       "    </tr>\n",
       "    <tr>\n",
       "      <th>3</th>\n",
       "      <td>crude</td>\n",
       "      <td>189</td>\n",
       "    </tr>\n",
       "    <tr>\n",
       "      <th>4</th>\n",
       "      <td>money-fx</td>\n",
       "      <td>179</td>\n",
       "    </tr>\n",
       "    <tr>\n",
       "      <th>...</th>\n",
       "      <td>...</td>\n",
       "      <td>...</td>\n",
       "    </tr>\n",
       "    <tr>\n",
       "      <th>86</th>\n",
       "      <td>castor-oil</td>\n",
       "      <td>1</td>\n",
       "    </tr>\n",
       "    <tr>\n",
       "      <th>87</th>\n",
       "      <td>groundnut-oil</td>\n",
       "      <td>1</td>\n",
       "    </tr>\n",
       "    <tr>\n",
       "      <th>88</th>\n",
       "      <td>instal-debt</td>\n",
       "      <td>1</td>\n",
       "    </tr>\n",
       "    <tr>\n",
       "      <th>89</th>\n",
       "      <td>palladium</td>\n",
       "      <td>1</td>\n",
       "    </tr>\n",
       "    <tr>\n",
       "      <th>90</th>\n",
       "      <td>nickel</td>\n",
       "      <td>1</td>\n",
       "    </tr>\n",
       "  </tbody>\n",
       "</table>\n",
       "<p>91 rows × 2 columns</p>\n",
       "</div>"
      ],
      "text/plain": [
       "           target  count\n",
       "0            earn   1087\n",
       "1             acq    719\n",
       "2         unknown    280\n",
       "3           crude    189\n",
       "4        money-fx    179\n",
       "..            ...    ...\n",
       "86     castor-oil      1\n",
       "87  groundnut-oil      1\n",
       "88    instal-debt      1\n",
       "89      palladium      1\n",
       "90         nickel      1\n",
       "\n",
       "[91 rows x 2 columns]"
      ]
     },
     "execution_count": 7,
     "metadata": {},
     "output_type": "execute_result"
    }
   ],
   "source": [
    "count_target = df_test.target.value_counts().reset_index(name='count')\n",
    "count_target"
   ]
  },
  {
   "cell_type": "code",
   "execution_count": 8,
   "metadata": {},
   "outputs": [
    {
     "data": {
      "image/png": "[encoded data removed]",
      "text/plain": [
       "<Figure size 600x300 with 1 Axes>"
      ]
     },
     "metadata": {},
     "output_type": "display_data"
    }
   ],
   "source": [
    "sns.set_palette(\"gray\")\n",
    "plt.figure(figsize=(6, 3))\n",
    "plt.boxplot(x=count_target['count'], vert=False, patch_artist=True)\n",
    "plt.title('Distribuição da Variável Target')\n",
    "plt.show()"
   ]
  },
  {
   "cell_type": "code",
   "execution_count": 9,
   "metadata": {},
   "outputs": [
    {
     "data": {
      "text/plain": [
       "(3.0, 26.0, 23.0)"
      ]
     },
     "execution_count": 9,
     "metadata": {},
     "output_type": "execute_result"
    }
   ],
   "source": [
    "q1 = np.percentile(count_target['count'], 25)\n",
    "q3 = np.percentile(count_target['count'], 75)\n",
    "iqr = q3 - q1\n",
    "q1, q3, iqr"
   ]
  },
  {
   "cell_type": "code",
   "execution_count": 10,
   "metadata": {},
   "outputs": [
    {
     "data": {
      "text/plain": [
       "((31, 2), (81, 2))"
      ]
     },
     "execution_count": 10,
     "metadata": {},
     "output_type": "execute_result"
    }
   ],
   "source": [
    "count_target.query(\"count < 5\").shape, count_target.query(\"count < 67\").shape\n",
    "# vou cortar lá em baixo depois dos enconddings"
   ]
  },
  {
   "cell_type": "code",
   "execution_count": 11,
   "metadata": {},
   "outputs": [
    {
     "data": {
      "image/png": "[encoded data removed]",
      "text/plain": [
       "<Figure size 600x300 with 1 Axes>"
      ]
     },
     "metadata": {},
     "output_type": "display_data"
    }
   ],
   "source": [
    "sns.set_palette(\"gray\")\n",
    "plt.figure(figsize=(6, 3))\n",
    "sns.histplot(count_target['count'], kde=True) \n",
    "plt.title('Distribuição da Variável Target')\n",
    "plt.show()"
   ]
  },
  {
   "cell_type": "markdown",
   "metadata": {},
   "source": [
    "# Preprocessing\n",
    "\n",
    "\n",
    "In this case we will use 2 approaches to represent these documents, TF-IDF and SBERT, therefore, using TF-IDF we will use the following preprocessing:\n",
    "\n",
    "    - [] convert text to lowercase letters\n",
    "    - [] removing numbers\n",
    "    - [] removing symbols\n",
    "    - [] removing tags (HTML/XML)\n",
    "    - [] removing urls\n",
    "    - [] removing stop words\n",
    "    \n",
    "To generate these embeddings using Language Models, we will not use any preprocessing and wait for the model to make the best decision."
   ]
  },
  {
   "cell_type": "code",
   "execution_count": 12,
   "metadata": {},
   "outputs": [],
   "source": [
    "pp_config = { 'convert': 'lower', \n",
    "              'numbers': True,\n",
    "              'split_line':True,\n",
    "              'stop_words': True,     \n",
    "              'symbols':True,       \n",
    "              'tags': True,\n",
    "              'url': True,\n",
    "            }\n",
    "\n",
    "PUNCT_TO_REMOVE = string.punctuation\n",
    "def remove_punctuation(text:str):\n",
    "    return text.translate(str.maketrans('', '', PUNCT_TO_REMOVE))\n",
    "\n",
    "STOPWORDS = set(stopwords.words('english'))\n",
    "def remove_stopwords(text):\n",
    "    return \" \".join([word for word in str(text).split() if word not in STOPWORDS])\n",
    "\n",
    "def remove_html(text):\n",
    "    return BeautifulSoup(text, \"html\").text\n",
    "\n",
    "def remove_split_line(text:str):\n",
    "    return re.sub(r'[\\n\\t]', '', text)\n",
    "\n",
    "def remove_numbers(text):\n",
    "    return re.sub(r'\\d', '', text)\n",
    "\n",
    "def remove_urls(text):\n",
    "    url_pattern = re.compile(r'https?://\\S+|www\\.\\S+')\n",
    "    return url_pattern.sub(r'', text)\n",
    "\n",
    "def preprocess_english_text(text:str, config:dict):\n",
    "\n",
    "    if config['convert'] == 'lower':\n",
    "        text = text.lower()\n",
    "    if config['numbers'] == True:\n",
    "        text = remove_numbers(text)\n",
    "    if config['split_line'] == True:\n",
    "        text = remove_split_line(text)\n",
    "    if config['stop_words'] == True:   \n",
    "        text = remove_stopwords(text)\n",
    "    if config['symbols'] == True:\n",
    "        text = remove_punctuation(text)\n",
    "    if config['tags'] == True:\n",
    "        text = remove_html(text)\n",
    "    if config['url'] == True:\n",
    "        text = remove_urls(text)\n",
    "    \n",
    "    return text\n",
    "\n",
    "def count_words(values:np.array):\n",
    "    \n",
    "    cnt = Counter()\n",
    "    for text in values:\n",
    "        for word in text.split():\n",
    "            cnt[word] += 1\n",
    "    return cnt"
   ]
  },
  {
   "cell_type": "code",
   "execution_count": 13,
   "metadata": {},
   "outputs": [
    {
     "name": "stdout",
     "output_type": "stream",
     "text": [
      "Finish time to preprocessing the text: 6.158733129501343\n"
     ]
    }
   ],
   "source": [
    "start_time = time.time()\n",
    "df_train['processed'] = df_train['content'].apply( lambda x : preprocess_english_text(x, pp_config) )\n",
    "df_test['processed'] = df_train['content'].apply( lambda x : preprocess_english_text(x, pp_config) )\n",
    "print(f\"Finish time to preprocessing the text: {time.time() - start_time}\")\n",
    "\n",
    "cnt = count_words(df_train[\"processed\"].values)\n",
    "RAREWORDS = set([w for w, w_count in cnt.items() if w_count == 1])\n",
    "COMMONWORDS = set([w for (w, w_count) in cnt.most_common()[:10]])\n",
    "\n",
    "df_train['processed2'] = df_train['processed'].apply( lambda x : ' '.join([word for word in x.split() if word not in RAREWORDS]))\n",
    "df_train['processed2'] = df_train['processed'].apply( lambda x : ' '.join([word for word in x.split() if word not in COMMONWORDS]))\n",
    "\n",
    "df_test['processed2'] = df_test['processed'].apply( lambda x : ' '.join([word for word in x.split() if word not in RAREWORDS]))\n",
    "df_test['processed2'] = df_test['processed'].apply( lambda x : ' '.join([word for word in x.split() if word not in COMMONWORDS]))"
   ]
  },
  {
   "cell_type": "markdown",
   "metadata": {},
   "source": [
    "# Encoding"
   ]
  },
  {
   "cell_type": "code",
   "execution_count": 14,
   "metadata": {},
   "outputs": [],
   "source": [
    "# Here we define a max features equals 384 to keep the same size of sbert\n",
    "def tf_idf_technicals(train:pd.DataFrame, test:pd.DataFrame, type:str):\n",
    "\n",
    "    initial_time = time.time()\n",
    "    \n",
    "    if type == 'tf':\n",
    "        vectorizer = TfidfVectorizer(use_idf=False, norm='l1', max_features=384) \n",
    "    elif type == 'idf':\n",
    "        vectorizer = TfidfVectorizer(use_idf=True, smooth_idf=False, norm='l2', max_features=384)  \n",
    "    elif type == 'tf-idf':\n",
    "        vectorizer = TfidfVectorizer(max_features=384)\n",
    "\n",
    "    matrix = vectorizer.fit_transform(train)\n",
    "    vector = vectorizer.transform(test)\n",
    "\n",
    "    words = vectorizer.get_feature_names_out()\n",
    "\n",
    "    tfidf_train = pd.DataFrame(data=matrix.toarray(), columns=words)\n",
    "    tfidf_test = pd.DataFrame(data=vector.toarray(), columns=words)\n",
    "\n",
    "    print(f\"Execution time: {time.time() - initial_time}s\\nSize:{len(words)}\")\n",
    "    return tfidf_train, tfidf_test\n",
    "\n",
    "def get_embeddings(model_name:str, data):\n",
    "    \n",
    "    initial_time = time.time()\n",
    "\n",
    "    model = SentenceTransformer(model_name)\n",
    "    sentence_embeddings = model.encode(data)\n",
    "\n",
    "    print(f\"Execution time: {time.time() - initial_time}s\\nSize:{len(sentence_embeddings)}\")\n",
    "    return sentence_embeddings"
   ]
  },
  {
   "cell_type": "code",
   "execution_count": 15,
   "metadata": {},
   "outputs": [
    {
     "name": "stdout",
     "output_type": "stream",
     "text": [
      "Execution time: 1.416076421737671s\n",
      "Size:384\n"
     ]
    }
   ],
   "source": [
    "tfidf_train, tfidf_test = tf_idf_technicals(df_train['processed'], df_test['processed'], 'tf-idf')"
   ]
  },
  {
   "cell_type": "code",
   "execution_count": 16,
   "metadata": {},
   "outputs": [
    {
     "name": "stdout",
     "output_type": "stream",
     "text": [
      "Embeddings Train\n",
      "Execution time: 357.211101770401s\n",
      "Size:11413\n",
      "Embeddings Test\n",
      "Execution time: 116.57050585746765s\n",
      "Size:4024\n"
     ]
    }
   ],
   "source": [
    "model_name= 'paraphrase-MiniLM-L6-v2'\n",
    "print(\"Embeddings Train\")\n",
    "sentence_train = get_embeddings(model_name, df_train['content'])\n",
    "\n",
    "print(\"Embeddings Test\")\n",
    "sentence_test= get_embeddings(model_name, df_test['content'])"
   ]
  },
  {
   "cell_type": "markdown",
   "metadata": {},
   "source": [
    "## Save embeddings preprocessed"
   ]
  },
  {
   "cell_type": "code",
   "execution_count": 17,
   "metadata": {},
   "outputs": [],
   "source": [
    "df_train_result = pd.concat([tfidf_train, df_train[['number_file', 'target']]], axis=1)\n",
    "df_train_result.to_csv('../data/tfidf_train.csv', index=False)\n",
    "df_test_result = pd.concat([tfidf_test, df_test[['number_file', 'target']]], axis=1)\n",
    "df_test_result.to_csv('../data/tfidf_test.csv', index=False)\n",
    "\n",
    "np.save('../data/embeddings_train.npy', sentence_train)\n",
    "np.save('../data/embeddings_test.npy', sentence_test)"
   ]
  },
  {
   "cell_type": "markdown",
   "metadata": {},
   "source": [
    "# Loading preprocessed data"
   ]
  },
  {
   "cell_type": "code",
   "execution_count": 18,
   "metadata": {},
   "outputs": [],
   "source": [
    "sentence_train = np.load('../data/embeddings_train.npy')\n",
    "sentence_test = np.load('../data/embeddings_test.npy')\n",
    "\n",
    "tfidf_train = pd.read_csv(\"../data/tfidf_train.csv\")\n",
    "tfidf_test = pd.read_csv(\"../data/tfidf_test.csv\")"
   ]
  },
  {
   "cell_type": "markdown",
   "metadata": {},
   "source": [
    "# Machine Learning"
   ]
  },
  {
   "cell_type": "markdown",
   "metadata": {},
   "source": [
    "## Imports"
   ]
  },
  {
   "cell_type": "code",
   "execution_count": 19,
   "metadata": {},
   "outputs": [],
   "source": [
    "from sklearn.model_selection import GridSearchCV, cross_val_score, KFold, cross_val_predict\n",
    "from sklearn.svm import SVC\n",
    "from sklearn.naive_bayes import MultinomialNB\n",
    "from sklearn.neighbors import KNeighborsClassifier\n",
    "from sklearn.metrics import accuracy_score, classification_report, precision_score, recall_score, f1_score, make_scorer"
   ]
  },
  {
   "cell_type": "markdown",
   "metadata": {},
   "source": [
    "## Parameters"
   ]
  },
  {
   "cell_type": "code",
   "execution_count": 43,
   "metadata": {},
   "outputs": [],
   "source": [
    "param_grid_naive_bayes = {\n",
    "    'alpha': [0.1, 1.0, 2.0],\n",
    "    'fit_prior': [True, False]\n",
    "}\n",
    "\n",
    "param_grid_knn = {\n",
    "    'n_neighbors': [3, 5, 7],\n",
    "    'weights': ['uniform', 'distance'],\n",
    "    'algorithm': ['auto', 'ball_tree', 'kd_tree', 'brute']\n",
    "}\n",
    "\n",
    "param_grid_svm = {\n",
    "    'C': [0.1, 1, 10],\n",
    "    'kernel': ['linear', 'rbf', 'poly']\n",
    "}\n",
    "\n",
    "\n",
    "svm_classifier = SVC()\n",
    "naive_bayes_classifier = MultinomialNB()\n",
    "knn_classifier = KNeighborsClassifier()\n",
    "\n",
    "classifiers = {\n",
    "    'Naive Bayes': (naive_bayes_classifier, param_grid_naive_bayes),\n",
    "    'KNN': (knn_classifier, param_grid_knn),\n",
    "    'SVM': (svm_classifier, param_grid_svm),\n",
    "}"
   ]
  },
  {
   "cell_type": "markdown",
   "metadata": {},
   "source": [
    "## Functions"
   ]
  },
  {
   "cell_type": "code",
   "execution_count": 44,
   "metadata": {},
   "outputs": [],
   "source": [
    "def apply_grid_search(X, y, param_grid, classifier):\n",
    "\n",
    "    f1_scorer_macro = make_scorer(f1_score, average='macro')\n",
    "\n",
    "    grid_search = GridSearchCV(estimator=classifier, param_grid=param_grid, cv=10, scoring=f1_scorer_macro, verbose=2, n_jobs=-1)\n",
    "\n",
    "    with tqdm(total=len(param_grid)) as pbar:\n",
    "        def update_pbar(_):\n",
    "            pbar.update(1)\n",
    "\n",
    "        grid_search.n_iter = update_pbar\n",
    "        grid_search.fit(X, y)\n",
    "\n",
    "    best_classifier = grid_search.best_estimator_\n",
    "    \n",
    "    return best_classifier\n",
    "\n",
    "def format_classification_report_with_count_class(y_true, y_pred, class_report):\n",
    "    \n",
    "    df_class_report = pd.DataFrame(class_report).T\n",
    "\n",
    "    count_train = y_true.value_counts().reset_index()\n",
    "    count_train.columns = ['target', 'count_true']\n",
    "\n",
    "    count_pred = pd.Series(y_pred).value_counts().reset_index()\n",
    "    count_pred.columns = ['target', 'count_pred']\n",
    "\n",
    "    df_class_report = df_class_report.join(count_train.set_index('target'), on=df_class_report.index)\n",
    "    df_class_report = df_class_report.join(count_pred.set_index('target'), on=df_class_report.index)\n",
    "\n",
    "    # Adicione os nomes das classes a partir do class_report\n",
    "    df_class_report['target_names'] = df_class_report.index\n",
    "\n",
    "    return df_class_report\n",
    "\n",
    "def calculate_metrics(y_true, y_pred):\n",
    "    macro_f1 = f1_score(y_true, y_pred, average='macro')\n",
    "    accuracy = accuracy_score(y_true, y_pred)\n",
    "    precision = precision_score(y_true, y_pred, average='macro')\n",
    "    recall = recall_score(y_true, y_pred, average='macro')\n",
    "\n",
    "    class_report = classification_report(y_true, y_pred, output_dict=True)\n",
    "    class_report = format_classification_report_with_count_class(y_true, y_pred, class_report)\n",
    "\n",
    "    return {'macro-f1': macro_f1, 'accuracy': accuracy, 'precision': precision, 'recall': recall}, class_report\n",
    "\n",
    "def create_metrics_dataframe(clf_name, e_name, execution_time, result_metrics, best_classifier):\n",
    "    metrics_df = pd.DataFrame({\n",
    "        'classifier': clf_name,\n",
    "        'embedding': e_name,\n",
    "        'execution_time': execution_time,\n",
    "        'f1': result_metrics[0]['macro-f1'],\n",
    "        'accuracy': result_metrics[0]['accuracy'],\n",
    "        'precision': result_metrics[0]['precision'],\n",
    "        'recall': result_metrics[0]['recall'],\n",
    "        'param': [best_classifier.get_params()]\n",
    "    })\n",
    "    return metrics_df"
   ]
  },
  {
   "cell_type": "markdown",
   "metadata": {},
   "source": [
    "## ML. \"Main\""
   ]
  },
  {
   "cell_type": "code",
   "execution_count": 45,
   "metadata": {},
   "outputs": [
    {
     "name": "stdout",
     "output_type": "stream",
     "text": [
      "Grid from sentence-bert:\n"
     ]
    },
    {
     "name": "stderr",
     "output_type": "stream",
     "text": [
      "  0%|          | 0/3 [00:00<?, ?it/s]"
     ]
    },
    {
     "name": "stdout",
     "output_type": "stream",
     "text": [
      "Naive Bayes\n"
     ]
    },
    {
     "name": "stderr",
     "output_type": "stream",
     "text": []
    },
    {
     "name": "stdout",
     "output_type": "stream",
     "text": [
      "Fitting 10 folds for each of 6 candidates, totalling 60 fits\n"
     ]
    },
    {
     "name": "stderr",
     "output_type": "stream",
     "text": [
      "  0%|          | 0/2 [00:03<?, ?it/s]\n",
      " 33%|███▎      | 1/3 [00:04<00:08,  4.06s/it]"
     ]
    },
    {
     "name": "stdout",
     "output_type": "stream",
     "text": [
      "KNN\n"
     ]
    },
    {
     "name": "stderr",
     "output_type": "stream",
     "text": []
    },
    {
     "name": "stdout",
     "output_type": "stream",
     "text": [
      "Fitting 10 folds for each of 24 candidates, totalling 240 fits\n"
     ]
    },
    {
     "name": "stderr",
     "output_type": "stream",
     "text": [
      "  0%|          | 0/3 [06:33<?, ?it/s]\n",
      " 67%|██████▋   | 2/3 [08:25<04:56, 296.41s/it]"
     ]
    },
    {
     "name": "stdout",
     "output_type": "stream",
     "text": [
      "SVM\n"
     ]
    },
    {
     "name": "stderr",
     "output_type": "stream",
     "text": []
    },
    {
     "name": "stdout",
     "output_type": "stream",
     "text": [
      "Fitting 10 folds for each of 9 candidates, totalling 90 fits\n"
     ]
    },
    {
     "name": "stderr",
     "output_type": "stream",
     "text": [
      "  0%|          | 0/2 [40:04<?, ?it/s]\n",
      "100%|██████████| 3/3 [49:15<00:00, 985.03s/it] \n"
     ]
    },
    {
     "name": "stdout",
     "output_type": "stream",
     "text": [
      "Grid from tf-idf:\n"
     ]
    },
    {
     "name": "stderr",
     "output_type": "stream",
     "text": [
      "  0%|          | 0/3 [00:00<?, ?it/s]"
     ]
    },
    {
     "name": "stdout",
     "output_type": "stream",
     "text": [
      "Naive Bayes\n"
     ]
    },
    {
     "name": "stderr",
     "output_type": "stream",
     "text": []
    },
    {
     "name": "stdout",
     "output_type": "stream",
     "text": [
      "Fitting 10 folds for each of 6 candidates, totalling 60 fits\n"
     ]
    },
    {
     "name": "stderr",
     "output_type": "stream",
     "text": [
      "  0%|          | 0/2 [00:02<?, ?it/s]\n",
      " 33%|███▎      | 1/3 [00:03<00:06,  3.20s/it]"
     ]
    },
    {
     "name": "stdout",
     "output_type": "stream",
     "text": [
      "KNN\n"
     ]
    },
    {
     "name": "stderr",
     "output_type": "stream",
     "text": []
    },
    {
     "name": "stdout",
     "output_type": "stream",
     "text": [
      "Fitting 10 folds for each of 24 candidates, totalling 240 fits\n"
     ]
    },
    {
     "name": "stderr",
     "output_type": "stream",
     "text": [
      "  0%|          | 0/3 [04:50<?, ?it/s]\n",
      " 67%|██████▋   | 2/3 [04:57<02:54, 174.16s/it]"
     ]
    },
    {
     "name": "stdout",
     "output_type": "stream",
     "text": [
      "SVM\n"
     ]
    },
    {
     "name": "stderr",
     "output_type": "stream",
     "text": []
    },
    {
     "name": "stdout",
     "output_type": "stream",
     "text": [
      "Fitting 10 folds for each of 9 candidates, totalling 90 fits\n"
     ]
    },
    {
     "name": "stderr",
     "output_type": "stream",
     "text": [
      "  0%|          | 0/2 [50:26<?, ?it/s]\n",
      "100%|██████████| 3/3 [56:00<00:00, 1120.02s/it]\n"
     ]
    }
   ],
   "source": [
    "data_train = [np.abs(sentence_train), tfidf_train.drop(columns=['target', 'number_file']).values]\n",
    "data_test = [np.abs(sentence_test), tfidf_test.drop(columns=['target', 'number_file']).values]\n",
    "\n",
    "target_train = tfidf_train['target']\n",
    "target_test = tfidf_test['target']\n",
    "\n",
    "training_info_df = pd.DataFrame(columns=['classifier', 'embedding', 'execution_time', 'f1', 'accuracy', 'precision', 'recall', 'param'])\n",
    "testing_info_df = pd.DataFrame(columns=['classifier', 'embedding', 'execution_time', 'f1', 'accuracy', 'precision', 'recall', 'param'])\n",
    "\n",
    "report_df = pd.DataFrame()\n",
    "\n",
    "for train, test, e_name in zip(data_train, data_test, ['sentence-bert', 'tf-idf']):\n",
    "\n",
    "    print(f\"Grid from {e_name}:\")\n",
    "\n",
    "    for clf_name, (classifier, param_grid) in tqdm(classifiers.items()):\n",
    "        print(clf_name)\n",
    "        start_time = time.time()\n",
    "        best_classifier = apply_grid_search(train, target_train, param_grid, classifier)\n",
    "        end_time = time.time()\n",
    "        execution_time = end_time - start_time\n",
    "\n",
    "        y_train_pred = best_classifier.predict(train)\n",
    "        result_metrics_train = calculate_metrics(target_train, y_train_pred)\n",
    "\n",
    "        temp_df_train = create_metrics_dataframe(clf_name, e_name, execution_time, result_metrics_train, best_classifier)\n",
    "        training_info_df = pd.concat([training_info_df, temp_df_train], ignore_index=True)\n",
    "\n",
    "        y_test_pred = best_classifier.predict(test)\n",
    "        result_metrics_test = calculate_metrics(target_test, y_test_pred)\n",
    "\n",
    "        temp_df_test = create_metrics_dataframe(clf_name, e_name, execution_time, result_metrics_test, best_classifier)\n",
    "        testing_info_df = pd.concat([testing_info_df, temp_df_test], ignore_index=True)\n",
    "\n",
    "        result_metrics_train[1]['classifier'] = clf_name\n",
    "        result_metrics_train[1]['dataset'] = 'treinamento'\n",
    "        report_df = pd.concat([report_df, result_metrics_train[1]], ignore_index=True)\n",
    "\n",
    "        result_metrics_test[1]['classifier'] = clf_name\n",
    "        result_metrics_test[1]['dataset'] = 'teste'\n",
    "        report_df = pd.concat([report_df, result_metrics_test[1]], ignore_index=True)\n",
    "\n",
    "report_df.to_csv(\"../data/report_df.csv\", index=False)\n",
    "training_info_df.to_csv(\"../data/training_info.csv\", index=False)\n",
    "testing_info_df.to_csv(\"../data/testing_info.csv\", index=False)\n",
    "#107 min"
   ]
  },
  {
   "cell_type": "markdown",
   "metadata": {},
   "source": [
    "# Results Analisys"
   ]
  },
  {
   "cell_type": "code",
   "execution_count": 19,
   "metadata": {},
   "outputs": [],
   "source": [
    "report = pd.read_csv(\"../data/report_df.csv\")\n",
    "training = pd.read_csv(\"../data/training_info.csv\")\n",
    "testing = pd.read_csv(\"../data/testing_info.csv\")"
   ]
  },
  {
   "cell_type": "code",
   "execution_count": 46,
   "metadata": {},
   "outputs": [
    {
     "data": {
      "text/html": [
       "<div>\n",
       "<style scoped>\n",
       "    .dataframe tbody tr th:only-of-type {\n",
       "        vertical-align: middle;\n",
       "    }\n",
       "\n",
       "    .dataframe tbody tr th {\n",
       "        vertical-align: top;\n",
       "    }\n",
       "\n",
       "    .dataframe thead th {\n",
       "        text-align: right;\n",
       "    }\n",
       "</style>\n",
       "<table border=\"1\" class=\"dataframe\">\n",
       "  <thead>\n",
       "    <tr style=\"text-align: right;\">\n",
       "      <th></th>\n",
       "      <th>classifier</th>\n",
       "      <th>embedding</th>\n",
       "      <th>execution_time</th>\n",
       "      <th>time_normalized</th>\n",
       "    </tr>\n",
       "  </thead>\n",
       "  <tbody>\n",
       "    <tr>\n",
       "      <th>3</th>\n",
       "      <td>Naive Bayes</td>\n",
       "      <td>tf-idf</td>\n",
       "      <td>0.043491</td>\n",
       "      <td>0.000000</td>\n",
       "    </tr>\n",
       "    <tr>\n",
       "      <th>2</th>\n",
       "      <td>Naive Bayes</td>\n",
       "      <td>sentence-bert</td>\n",
       "      <td>0.055090</td>\n",
       "      <td>0.000230</td>\n",
       "    </tr>\n",
       "    <tr>\n",
       "      <th>1</th>\n",
       "      <td>KNN</td>\n",
       "      <td>tf-idf</td>\n",
       "      <td>4.847538</td>\n",
       "      <td>0.095328</td>\n",
       "    </tr>\n",
       "    <tr>\n",
       "      <th>0</th>\n",
       "      <td>KNN</td>\n",
       "      <td>sentence-bert</td>\n",
       "      <td>6.551270</td>\n",
       "      <td>0.129135</td>\n",
       "    </tr>\n",
       "    <tr>\n",
       "      <th>4</th>\n",
       "      <td>SVM</td>\n",
       "      <td>sentence-bert</td>\n",
       "      <td>40.082474</td>\n",
       "      <td>0.794501</td>\n",
       "    </tr>\n",
       "    <tr>\n",
       "      <th>5</th>\n",
       "      <td>SVM</td>\n",
       "      <td>tf-idf</td>\n",
       "      <td>50.438650</td>\n",
       "      <td>1.000000</td>\n",
       "    </tr>\n",
       "  </tbody>\n",
       "</table>\n",
       "</div>"
      ],
      "text/plain": [
       "    classifier      embedding  execution_time  time_normalized\n",
       "3  Naive Bayes         tf-idf        0.043491         0.000000\n",
       "2  Naive Bayes  sentence-bert        0.055090         0.000230\n",
       "1          KNN         tf-idf        4.847538         0.095328\n",
       "0          KNN  sentence-bert        6.551270         0.129135\n",
       "4          SVM  sentence-bert       40.082474         0.794501\n",
       "5          SVM         tf-idf       50.438650         1.000000"
      ]
     },
     "execution_count": 46,
     "metadata": {},
     "output_type": "execute_result"
    }
   ],
   "source": [
    "aux_graph['execution_time'] = aux_graph['execution_time'] / 60 \n",
    "aux_graph"
   ]
  },
  {
   "cell_type": "code",
   "execution_count": 43,
   "metadata": {},
   "outputs": [
    {
     "data": {
      "image/png": "[encoded data removed]",
      "text/plain": [
       "<Figure size 600x300 with 1 Axes>"
      ]
     },
     "metadata": {},
     "output_type": "display_data"
    }
   ],
   "source": [
    "aux_graph = training.groupby([\"classifier\", \"embedding\"])['execution_time'].mean().reset_index()\n",
    "minimo = aux_graph['execution_time'].min()\n",
    "maximo = aux_graph['execution_time'].max()\n",
    "aux_graph['time_normalized'] = (aux_graph['execution_time'] - minimo) / (maximo - minimo)\n",
    "aux_graph = aux_graph.sort_values(by='time_normalized')\n",
    "\n",
    "plt.figure(figsize=(6, 3))\n",
    "ax = sns.barplot(x=\"classifier\", y=\"time_normalized\", hue=\"embedding\", data=aux_graph, ci=None)\n",
    "ax.set_title('Comparação do Tempo de Treinamento.')\n",
    "ax.legend(loc='upper left')\n",
    "ax.set_xlabel('')\n",
    "ax.set_ylabel('Tempo Normalizado')\n",
    "\n",
    "plt.show()"
   ]
  },
  {
   "cell_type": "code",
   "execution_count": 30,
   "metadata": {},
   "outputs": [
    {
     "data": {
      "text/html": [
       "<div>\n",
       "<style scoped>\n",
       "    .dataframe tbody tr th:only-of-type {\n",
       "        vertical-align: middle;\n",
       "    }\n",
       "\n",
       "    .dataframe tbody tr th {\n",
       "        vertical-align: top;\n",
       "    }\n",
       "\n",
       "    .dataframe thead th {\n",
       "        text-align: right;\n",
       "    }\n",
       "</style>\n",
       "<table border=\"1\" class=\"dataframe\">\n",
       "  <thead>\n",
       "    <tr style=\"text-align: right;\">\n",
       "      <th></th>\n",
       "      <th>classifier</th>\n",
       "      <th>embedding</th>\n",
       "      <th>execution_time</th>\n",
       "      <th>time_normalized</th>\n",
       "    </tr>\n",
       "  </thead>\n",
       "  <tbody>\n",
       "    <tr>\n",
       "      <th>3</th>\n",
       "      <td>Naive Bayes</td>\n",
       "      <td>tf-idf</td>\n",
       "      <td>2.609436</td>\n",
       "      <td>0.000000</td>\n",
       "    </tr>\n",
       "    <tr>\n",
       "      <th>2</th>\n",
       "      <td>Naive Bayes</td>\n",
       "      <td>sentence-bert</td>\n",
       "      <td>3.305379</td>\n",
       "      <td>0.000230</td>\n",
       "    </tr>\n",
       "    <tr>\n",
       "      <th>1</th>\n",
       "      <td>KNN</td>\n",
       "      <td>tf-idf</td>\n",
       "      <td>290.852264</td>\n",
       "      <td>0.095328</td>\n",
       "    </tr>\n",
       "    <tr>\n",
       "      <th>0</th>\n",
       "      <td>KNN</td>\n",
       "      <td>sentence-bert</td>\n",
       "      <td>393.076175</td>\n",
       "      <td>0.129135</td>\n",
       "    </tr>\n",
       "    <tr>\n",
       "      <th>4</th>\n",
       "      <td>SVM</td>\n",
       "      <td>sentence-bert</td>\n",
       "      <td>2404.948440</td>\n",
       "      <td>0.794501</td>\n",
       "    </tr>\n",
       "    <tr>\n",
       "      <th>5</th>\n",
       "      <td>SVM</td>\n",
       "      <td>tf-idf</td>\n",
       "      <td>3026.318996</td>\n",
       "      <td>1.000000</td>\n",
       "    </tr>\n",
       "  </tbody>\n",
       "</table>\n",
       "</div>"
      ],
      "text/plain": [
       "    classifier      embedding  execution_time  time_normalized\n",
       "3  Naive Bayes         tf-idf        2.609436         0.000000\n",
       "2  Naive Bayes  sentence-bert        3.305379         0.000230\n",
       "1          KNN         tf-idf      290.852264         0.095328\n",
       "0          KNN  sentence-bert      393.076175         0.129135\n",
       "4          SVM  sentence-bert     2404.948440         0.794501\n",
       "5          SVM         tf-idf     3026.318996         1.000000"
      ]
     },
     "execution_count": 30,
     "metadata": {},
     "output_type": "execute_result"
    }
   ],
   "source": [
    "aux_graph"
   ]
  },
  {
   "cell_type": "code",
   "execution_count": 14,
   "metadata": {},
   "outputs": [
    {
     "data": {
      "text/html": [
       "<div>\n",
       "<style scoped>\n",
       "    .dataframe tbody tr th:only-of-type {\n",
       "        vertical-align: middle;\n",
       "    }\n",
       "\n",
       "    .dataframe tbody tr th {\n",
       "        vertical-align: top;\n",
       "    }\n",
       "\n",
       "    .dataframe thead th {\n",
       "        text-align: right;\n",
       "    }\n",
       "</style>\n",
       "<table border=\"1\" class=\"dataframe\">\n",
       "  <thead>\n",
       "    <tr style=\"text-align: right;\">\n",
       "      <th></th>\n",
       "      <th>classifier</th>\n",
       "      <th>embedding</th>\n",
       "      <th>execution_time</th>\n",
       "      <th>f1</th>\n",
       "      <th>accuracy</th>\n",
       "      <th>precision</th>\n",
       "      <th>recall</th>\n",
       "      <th>param</th>\n",
       "    </tr>\n",
       "  </thead>\n",
       "  <tbody>\n",
       "    <tr>\n",
       "      <th>0</th>\n",
       "      <td>Naive Bayes</td>\n",
       "      <td>sentence-bert</td>\n",
       "      <td>3.305379</td>\n",
       "      <td>0.514049</td>\n",
       "      <td>0.654429</td>\n",
       "      <td>0.456512</td>\n",
       "      <td>0.724884</td>\n",
       "      <td>{'alpha': 0.1, 'class_prior': None, 'fit_prior...</td>\n",
       "    </tr>\n",
       "    <tr>\n",
       "      <th>2</th>\n",
       "      <td>SVM</td>\n",
       "      <td>sentence-bert</td>\n",
       "      <td>2404.948440</td>\n",
       "      <td>0.457325</td>\n",
       "      <td>0.812407</td>\n",
       "      <td>0.547430</td>\n",
       "      <td>0.431200</td>\n",
       "      <td>{'C': 1, 'break_ties': False, 'cache_size': 20...</td>\n",
       "    </tr>\n",
       "    <tr>\n",
       "      <th>1</th>\n",
       "      <td>KNN</td>\n",
       "      <td>sentence-bert</td>\n",
       "      <td>393.076175</td>\n",
       "      <td>0.400595</td>\n",
       "      <td>0.768071</td>\n",
       "      <td>0.483918</td>\n",
       "      <td>0.387373</td>\n",
       "      <td>{'algorithm': 'ball_tree', 'leaf_size': 30, 'm...</td>\n",
       "    </tr>\n",
       "    <tr>\n",
       "      <th>5</th>\n",
       "      <td>SVM</td>\n",
       "      <td>tf-idf</td>\n",
       "      <td>3026.318996</td>\n",
       "      <td>0.455142</td>\n",
       "      <td>0.818277</td>\n",
       "      <td>0.532137</td>\n",
       "      <td>0.434357</td>\n",
       "      <td>{'C': 10, 'break_ties': False, 'cache_size': 2...</td>\n",
       "    </tr>\n",
       "    <tr>\n",
       "      <th>3</th>\n",
       "      <td>Naive Bayes</td>\n",
       "      <td>tf-idf</td>\n",
       "      <td>2.609436</td>\n",
       "      <td>0.393936</td>\n",
       "      <td>0.662140</td>\n",
       "      <td>0.349091</td>\n",
       "      <td>0.638552</td>\n",
       "      <td>{'alpha': 0.1, 'class_prior': None, 'fit_prior...</td>\n",
       "    </tr>\n",
       "    <tr>\n",
       "      <th>4</th>\n",
       "      <td>KNN</td>\n",
       "      <td>tf-idf</td>\n",
       "      <td>290.852264</td>\n",
       "      <td>0.298215</td>\n",
       "      <td>0.739157</td>\n",
       "      <td>0.381453</td>\n",
       "      <td>0.304045</td>\n",
       "      <td>{'algorithm': 'auto', 'leaf_size': 30, 'metric...</td>\n",
       "    </tr>\n",
       "  </tbody>\n",
       "</table>\n",
       "</div>"
      ],
      "text/plain": [
       "    classifier      embedding  execution_time        f1  accuracy  precision  \\\n",
       "0  Naive Bayes  sentence-bert        3.305379  0.514049  0.654429   0.456512   \n",
       "2          SVM  sentence-bert     2404.948440  0.457325  0.812407   0.547430   \n",
       "1          KNN  sentence-bert      393.076175  0.400595  0.768071   0.483918   \n",
       "5          SVM         tf-idf     3026.318996  0.455142  0.818277   0.532137   \n",
       "3  Naive Bayes         tf-idf        2.609436  0.393936  0.662140   0.349091   \n",
       "4          KNN         tf-idf      290.852264  0.298215  0.739157   0.381453   \n",
       "\n",
       "     recall                                              param  \n",
       "0  0.724884  {'alpha': 0.1, 'class_prior': None, 'fit_prior...  \n",
       "2  0.431200  {'C': 1, 'break_ties': False, 'cache_size': 20...  \n",
       "1  0.387373  {'algorithm': 'ball_tree', 'leaf_size': 30, 'm...  \n",
       "5  0.434357  {'C': 10, 'break_ties': False, 'cache_size': 2...  \n",
       "3  0.638552  {'alpha': 0.1, 'class_prior': None, 'fit_prior...  \n",
       "4  0.304045  {'algorithm': 'auto', 'leaf_size': 30, 'metric...  "
      ]
     },
     "execution_count": 14,
     "metadata": {},
     "output_type": "execute_result"
    }
   ],
   "source": [
    "asb = training.sort_values(by='f1', ascending=False).query(\"embedding == 'sentence-bert'\")\n",
    "atf = training.sort_values(by='f1', ascending=False).query(\"embedding == 'tf-idf'\")\n",
    "aux_graph = pd.concat([asb, atf], axis=0)\n",
    "aux_graph"
   ]
  },
  {
   "cell_type": "code",
   "execution_count": 50,
   "metadata": {},
   "outputs": [
    {
     "data": {
      "image/png": "[encoded data removed]",
      "text/plain": [
       "<Figure size 600x300 with 1 Axes>"
      ]
     },
     "metadata": {},
     "output_type": "display_data"
    }
   ],
   "source": [
    "aux_graph = training.sort_values(by='f1', ascending=False).drop_duplicates()\n",
    "plt.figure(figsize=(6, 3))\n",
    "ax = sns.barplot(x=\"classifier\", y=\"f1\", hue=\"embedding\", data=aux_graph, ci=None)\n",
    "ax.set_title('Comparação do F1 Score Entre Classificadores e as Técnicas de Vetorização')\n",
    "ax.legend(loc='upper right')\n",
    "ax.set_xlabel('Classificadores')\n",
    "ax.set_ylabel('F1 Score')\n",
    "plt.show()"
   ]
  },
  {
   "cell_type": "code",
   "execution_count": 55,
   "metadata": {},
   "outputs": [
    {
     "data": {
      "text/html": [
       "<div>\n",
       "<style scoped>\n",
       "    .dataframe tbody tr th:only-of-type {\n",
       "        vertical-align: middle;\n",
       "    }\n",
       "\n",
       "    .dataframe tbody tr th {\n",
       "        vertical-align: top;\n",
       "    }\n",
       "\n",
       "    .dataframe thead th {\n",
       "        text-align: right;\n",
       "    }\n",
       "</style>\n",
       "<table border=\"1\" class=\"dataframe\">\n",
       "  <thead>\n",
       "    <tr style=\"text-align: right;\">\n",
       "      <th></th>\n",
       "      <th>classifier</th>\n",
       "      <th>embedding</th>\n",
       "      <th>execution_time</th>\n",
       "      <th>f1</th>\n",
       "      <th>accuracy</th>\n",
       "      <th>precision</th>\n",
       "      <th>recall</th>\n",
       "      <th>param</th>\n",
       "      <th>type</th>\n",
       "    </tr>\n",
       "  </thead>\n",
       "  <tbody>\n",
       "    <tr>\n",
       "      <th>0</th>\n",
       "      <td>Naive Bayes</td>\n",
       "      <td>sentence-bert</td>\n",
       "      <td>3.305379</td>\n",
       "      <td>0.514049</td>\n",
       "      <td>0.654429</td>\n",
       "      <td>0.456512</td>\n",
       "      <td>0.724884</td>\n",
       "      <td>{'alpha': 0.1, 'class_prior': None, 'fit_prior...</td>\n",
       "      <td>train</td>\n",
       "    </tr>\n",
       "    <tr>\n",
       "      <th>1</th>\n",
       "      <td>KNN</td>\n",
       "      <td>sentence-bert</td>\n",
       "      <td>393.076175</td>\n",
       "      <td>0.400595</td>\n",
       "      <td>0.768071</td>\n",
       "      <td>0.483918</td>\n",
       "      <td>0.387373</td>\n",
       "      <td>{'algorithm': 'ball_tree', 'leaf_size': 30, 'm...</td>\n",
       "      <td>train</td>\n",
       "    </tr>\n",
       "    <tr>\n",
       "      <th>2</th>\n",
       "      <td>SVM</td>\n",
       "      <td>sentence-bert</td>\n",
       "      <td>2404.948440</td>\n",
       "      <td>0.457325</td>\n",
       "      <td>0.812407</td>\n",
       "      <td>0.547430</td>\n",
       "      <td>0.431200</td>\n",
       "      <td>{'C': 1, 'break_ties': False, 'cache_size': 20...</td>\n",
       "      <td>train</td>\n",
       "    </tr>\n",
       "    <tr>\n",
       "      <th>3</th>\n",
       "      <td>Naive Bayes</td>\n",
       "      <td>tf-idf</td>\n",
       "      <td>2.609436</td>\n",
       "      <td>0.393936</td>\n",
       "      <td>0.662140</td>\n",
       "      <td>0.349091</td>\n",
       "      <td>0.638552</td>\n",
       "      <td>{'alpha': 0.1, 'class_prior': None, 'fit_prior...</td>\n",
       "      <td>train</td>\n",
       "    </tr>\n",
       "    <tr>\n",
       "      <th>4</th>\n",
       "      <td>KNN</td>\n",
       "      <td>tf-idf</td>\n",
       "      <td>290.852264</td>\n",
       "      <td>0.298215</td>\n",
       "      <td>0.739157</td>\n",
       "      <td>0.381453</td>\n",
       "      <td>0.304045</td>\n",
       "      <td>{'algorithm': 'auto', 'leaf_size': 30, 'metric...</td>\n",
       "      <td>train</td>\n",
       "    </tr>\n",
       "    <tr>\n",
       "      <th>5</th>\n",
       "      <td>SVM</td>\n",
       "      <td>tf-idf</td>\n",
       "      <td>3026.318996</td>\n",
       "      <td>0.455142</td>\n",
       "      <td>0.818277</td>\n",
       "      <td>0.532137</td>\n",
       "      <td>0.434357</td>\n",
       "      <td>{'C': 10, 'break_ties': False, 'cache_size': 2...</td>\n",
       "      <td>train</td>\n",
       "    </tr>\n",
       "    <tr>\n",
       "      <th>0</th>\n",
       "      <td>Naive Bayes</td>\n",
       "      <td>sentence-bert</td>\n",
       "      <td>3.305379</td>\n",
       "      <td>0.348682</td>\n",
       "      <td>0.652833</td>\n",
       "      <td>0.364981</td>\n",
       "      <td>0.379840</td>\n",
       "      <td>{'alpha': 0.1, 'class_prior': None, 'fit_prior...</td>\n",
       "      <td>test</td>\n",
       "    </tr>\n",
       "    <tr>\n",
       "      <th>1</th>\n",
       "      <td>KNN</td>\n",
       "      <td>sentence-bert</td>\n",
       "      <td>393.076175</td>\n",
       "      <td>0.288586</td>\n",
       "      <td>0.657803</td>\n",
       "      <td>0.350193</td>\n",
       "      <td>0.281707</td>\n",
       "      <td>{'algorithm': 'ball_tree', 'leaf_size': 30, 'm...</td>\n",
       "      <td>test</td>\n",
       "    </tr>\n",
       "    <tr>\n",
       "      <th>2</th>\n",
       "      <td>SVM</td>\n",
       "      <td>sentence-bert</td>\n",
       "      <td>2404.948440</td>\n",
       "      <td>0.286930</td>\n",
       "      <td>0.672465</td>\n",
       "      <td>0.369435</td>\n",
       "      <td>0.263874</td>\n",
       "      <td>{'C': 1, 'break_ties': False, 'cache_size': 20...</td>\n",
       "      <td>test</td>\n",
       "    </tr>\n",
       "    <tr>\n",
       "      <th>3</th>\n",
       "      <td>Naive Bayes</td>\n",
       "      <td>tf-idf</td>\n",
       "      <td>2.609436</td>\n",
       "      <td>0.008638</td>\n",
       "      <td>0.151093</td>\n",
       "      <td>0.007500</td>\n",
       "      <td>0.011887</td>\n",
       "      <td>{'alpha': 0.1, 'class_prior': None, 'fit_prior...</td>\n",
       "      <td>test</td>\n",
       "    </tr>\n",
       "    <tr>\n",
       "      <th>4</th>\n",
       "      <td>KNN</td>\n",
       "      <td>tf-idf</td>\n",
       "      <td>290.852264</td>\n",
       "      <td>0.010258</td>\n",
       "      <td>0.175944</td>\n",
       "      <td>0.012693</td>\n",
       "      <td>0.013012</td>\n",
       "      <td>{'algorithm': 'auto', 'leaf_size': 30, 'metric...</td>\n",
       "      <td>test</td>\n",
       "    </tr>\n",
       "    <tr>\n",
       "      <th>5</th>\n",
       "      <td>SVM</td>\n",
       "      <td>tf-idf</td>\n",
       "      <td>3026.318996</td>\n",
       "      <td>0.012131</td>\n",
       "      <td>0.192097</td>\n",
       "      <td>0.011680</td>\n",
       "      <td>0.015410</td>\n",
       "      <td>{'C': 10, 'break_ties': False, 'cache_size': 2...</td>\n",
       "      <td>test</td>\n",
       "    </tr>\n",
       "  </tbody>\n",
       "</table>\n",
       "</div>"
      ],
      "text/plain": [
       "    classifier      embedding  execution_time        f1  accuracy  precision  \\\n",
       "0  Naive Bayes  sentence-bert        3.305379  0.514049  0.654429   0.456512   \n",
       "1          KNN  sentence-bert      393.076175  0.400595  0.768071   0.483918   \n",
       "2          SVM  sentence-bert     2404.948440  0.457325  0.812407   0.547430   \n",
       "3  Naive Bayes         tf-idf        2.609436  0.393936  0.662140   0.349091   \n",
       "4          KNN         tf-idf      290.852264  0.298215  0.739157   0.381453   \n",
       "5          SVM         tf-idf     3026.318996  0.455142  0.818277   0.532137   \n",
       "0  Naive Bayes  sentence-bert        3.305379  0.348682  0.652833   0.364981   \n",
       "1          KNN  sentence-bert      393.076175  0.288586  0.657803   0.350193   \n",
       "2          SVM  sentence-bert     2404.948440  0.286930  0.672465   0.369435   \n",
       "3  Naive Bayes         tf-idf        2.609436  0.008638  0.151093   0.007500   \n",
       "4          KNN         tf-idf      290.852264  0.010258  0.175944   0.012693   \n",
       "5          SVM         tf-idf     3026.318996  0.012131  0.192097   0.011680   \n",
       "\n",
       "     recall                                              param   type  \n",
       "0  0.724884  {'alpha': 0.1, 'class_prior': None, 'fit_prior...  train  \n",
       "1  0.387373  {'algorithm': 'ball_tree', 'leaf_size': 30, 'm...  train  \n",
       "2  0.431200  {'C': 1, 'break_ties': False, 'cache_size': 20...  train  \n",
       "3  0.638552  {'alpha': 0.1, 'class_prior': None, 'fit_prior...  train  \n",
       "4  0.304045  {'algorithm': 'auto', 'leaf_size': 30, 'metric...  train  \n",
       "5  0.434357  {'C': 10, 'break_ties': False, 'cache_size': 2...  train  \n",
       "0  0.379840  {'alpha': 0.1, 'class_prior': None, 'fit_prior...   test  \n",
       "1  0.281707  {'algorithm': 'ball_tree', 'leaf_size': 30, 'm...   test  \n",
       "2  0.263874  {'C': 1, 'break_ties': False, 'cache_size': 20...   test  \n",
       "3  0.011887  {'alpha': 0.1, 'class_prior': None, 'fit_prior...   test  \n",
       "4  0.013012  {'algorithm': 'auto', 'leaf_size': 30, 'metric...   test  \n",
       "5  0.015410  {'C': 10, 'break_ties': False, 'cache_size': 2...   test  "
      ]
     },
     "execution_count": 55,
     "metadata": {},
     "output_type": "execute_result"
    }
   ],
   "source": [
    "# f1 treino x teste por classifier\n",
    "testing['type'] = 'test'\n",
    "training['type'] = 'train'\n",
    "result = pd.concat([training, testing], axis=0)\n",
    "result"
   ]
  },
  {
   "cell_type": "code",
   "execution_count": 57,
   "metadata": {},
   "outputs": [
    {
     "data": {
      "text/html": [
       "<div>\n",
       "<style scoped>\n",
       "    .dataframe tbody tr th:only-of-type {\n",
       "        vertical-align: middle;\n",
       "    }\n",
       "\n",
       "    .dataframe tbody tr th {\n",
       "        vertical-align: top;\n",
       "    }\n",
       "\n",
       "    .dataframe thead th {\n",
       "        text-align: right;\n",
       "    }\n",
       "</style>\n",
       "<table border=\"1\" class=\"dataframe\">\n",
       "  <thead>\n",
       "    <tr style=\"text-align: right;\">\n",
       "      <th></th>\n",
       "      <th>classifier</th>\n",
       "      <th>embedding</th>\n",
       "      <th>execution_time</th>\n",
       "      <th>f1</th>\n",
       "      <th>accuracy</th>\n",
       "      <th>precision</th>\n",
       "      <th>recall</th>\n",
       "      <th>param</th>\n",
       "      <th>type</th>\n",
       "    </tr>\n",
       "  </thead>\n",
       "  <tbody>\n",
       "    <tr>\n",
       "      <th>0</th>\n",
       "      <td>Naive Bayes</td>\n",
       "      <td>sentence-bert</td>\n",
       "      <td>0.055090</td>\n",
       "      <td>0.348682</td>\n",
       "      <td>0.652833</td>\n",
       "      <td>0.364981</td>\n",
       "      <td>0.379840</td>\n",
       "      <td>{'alpha': 0.1, 'class_prior': None, 'fit_prior...</td>\n",
       "      <td>test</td>\n",
       "    </tr>\n",
       "    <tr>\n",
       "      <th>1</th>\n",
       "      <td>KNN</td>\n",
       "      <td>sentence-bert</td>\n",
       "      <td>6.551270</td>\n",
       "      <td>0.288586</td>\n",
       "      <td>0.657803</td>\n",
       "      <td>0.350193</td>\n",
       "      <td>0.281707</td>\n",
       "      <td>{'algorithm': 'ball_tree', 'leaf_size': 30, 'm...</td>\n",
       "      <td>test</td>\n",
       "    </tr>\n",
       "    <tr>\n",
       "      <th>2</th>\n",
       "      <td>SVM</td>\n",
       "      <td>sentence-bert</td>\n",
       "      <td>40.082474</td>\n",
       "      <td>0.286930</td>\n",
       "      <td>0.672465</td>\n",
       "      <td>0.369435</td>\n",
       "      <td>0.263874</td>\n",
       "      <td>{'C': 1, 'break_ties': False, 'cache_size': 20...</td>\n",
       "      <td>test</td>\n",
       "    </tr>\n",
       "    <tr>\n",
       "      <th>3</th>\n",
       "      <td>Naive Bayes</td>\n",
       "      <td>tf-idf</td>\n",
       "      <td>0.043491</td>\n",
       "      <td>0.008638</td>\n",
       "      <td>0.151093</td>\n",
       "      <td>0.007500</td>\n",
       "      <td>0.011887</td>\n",
       "      <td>{'alpha': 0.1, 'class_prior': None, 'fit_prior...</td>\n",
       "      <td>test</td>\n",
       "    </tr>\n",
       "    <tr>\n",
       "      <th>4</th>\n",
       "      <td>KNN</td>\n",
       "      <td>tf-idf</td>\n",
       "      <td>4.847538</td>\n",
       "      <td>0.010258</td>\n",
       "      <td>0.175944</td>\n",
       "      <td>0.012693</td>\n",
       "      <td>0.013012</td>\n",
       "      <td>{'algorithm': 'auto', 'leaf_size': 30, 'metric...</td>\n",
       "      <td>test</td>\n",
       "    </tr>\n",
       "    <tr>\n",
       "      <th>5</th>\n",
       "      <td>SVM</td>\n",
       "      <td>tf-idf</td>\n",
       "      <td>50.438650</td>\n",
       "      <td>0.012131</td>\n",
       "      <td>0.192097</td>\n",
       "      <td>0.011680</td>\n",
       "      <td>0.015410</td>\n",
       "      <td>{'C': 10, 'break_ties': False, 'cache_size': 2...</td>\n",
       "      <td>test</td>\n",
       "    </tr>\n",
       "  </tbody>\n",
       "</table>\n",
       "</div>"
      ],
      "text/plain": [
       "    classifier      embedding  execution_time        f1  accuracy  precision  \\\n",
       "0  Naive Bayes  sentence-bert        0.055090  0.348682  0.652833   0.364981   \n",
       "1          KNN  sentence-bert        6.551270  0.288586  0.657803   0.350193   \n",
       "2          SVM  sentence-bert       40.082474  0.286930  0.672465   0.369435   \n",
       "3  Naive Bayes         tf-idf        0.043491  0.008638  0.151093   0.007500   \n",
       "4          KNN         tf-idf        4.847538  0.010258  0.175944   0.012693   \n",
       "5          SVM         tf-idf       50.438650  0.012131  0.192097   0.011680   \n",
       "\n",
       "     recall                                              param  type  \n",
       "0  0.379840  {'alpha': 0.1, 'class_prior': None, 'fit_prior...  test  \n",
       "1  0.281707  {'algorithm': 'ball_tree', 'leaf_size': 30, 'm...  test  \n",
       "2  0.263874  {'C': 1, 'break_ties': False, 'cache_size': 20...  test  \n",
       "3  0.011887  {'alpha': 0.1, 'class_prior': None, 'fit_prior...  test  \n",
       "4  0.013012  {'algorithm': 'auto', 'leaf_size': 30, 'metric...  test  \n",
       "5  0.015410  {'C': 10, 'break_ties': False, 'cache_size': 2...  test  "
      ]
     },
     "execution_count": 57,
     "metadata": {},
     "output_type": "execute_result"
    }
   ],
   "source": [
    "result['execution_time'] = result['execution_time'] / 60 \n",
    "result.query('type == \"test\"')"
   ]
  },
  {
   "cell_type": "code",
   "execution_count": 53,
   "metadata": {},
   "outputs": [
    {
     "data": {
      "image/png": "[encoded data removed]",
      "text/plain": [
       "<Figure size 600x300 with 1 Axes>"
      ]
     },
     "metadata": {},
     "output_type": "display_data"
    }
   ],
   "source": [
    "aux = result.query(\"embedding == 'tf-idf'\")\n",
    "plt.figure(figsize=(6, 3))\n",
    "ax = sns.barplot(x=\"classifier\", y=\"f1\", hue=\"type\", data=aux, ci=None)\n",
    "ax.set_title('Comparação do F1 Score Entre Classificadores e o TF-IDF')\n",
    "ax.legend(loc='upper right')\n",
    "ax.set_xlabel('classificadores')\n",
    "ax.set_ylabel('F1 Score')\n",
    "plt.show()"
   ]
  },
  {
   "cell_type": "code",
   "execution_count": 52,
   "metadata": {},
   "outputs": [
    {
     "data": {
      "image/png": "[encoded data removed]",
      "text/plain": [
       "<Figure size 600x300 with 1 Axes>"
      ]
     },
     "metadata": {},
     "output_type": "display_data"
    }
   ],
   "source": [
    "aux = result.query(\"embedding == 'sentence-bert'\")\n",
    "plt.figure(figsize=(6, 3))\n",
    "ax = sns.barplot(x=\"classifier\", y=\"f1\", hue=\"type\", data=aux, ci=None)\n",
    "ax.set_title('Comparação do F1 Score Entre Classificadores e o Sentence Bert')\n",
    "ax.legend(loc='upper right')\n",
    "ax.set_xlabel('classificadores')\n",
    "ax.set_ylabel('F1 Score')\n",
    "plt.show()"
   ]
  },
  {
   "cell_type": "markdown",
   "metadata": {},
   "source": [
    "# Statistic Test - ANOVA"
   ]
  },
  {
   "cell_type": "code",
   "execution_count": 54,
   "metadata": {},
   "outputs": [
    {
     "data": {
      "text/html": [
       "<div>\n",
       "<style scoped>\n",
       "    .dataframe tbody tr th:only-of-type {\n",
       "        vertical-align: middle;\n",
       "    }\n",
       "\n",
       "    .dataframe tbody tr th {\n",
       "        vertical-align: top;\n",
       "    }\n",
       "\n",
       "    .dataframe thead th {\n",
       "        text-align: right;\n",
       "    }\n",
       "</style>\n",
       "<table border=\"1\" class=\"dataframe\">\n",
       "  <thead>\n",
       "    <tr style=\"text-align: right;\">\n",
       "      <th></th>\n",
       "      <th>classifier</th>\n",
       "      <th>embedding</th>\n",
       "      <th>execution_time</th>\n",
       "      <th>f1</th>\n",
       "      <th>accuracy</th>\n",
       "      <th>precision</th>\n",
       "      <th>recall</th>\n",
       "      <th>param</th>\n",
       "      <th>type</th>\n",
       "    </tr>\n",
       "  </thead>\n",
       "  <tbody>\n",
       "    <tr>\n",
       "      <th>0</th>\n",
       "      <td>Naive Bayes</td>\n",
       "      <td>sentence-bert</td>\n",
       "      <td>3.305379</td>\n",
       "      <td>0.514049</td>\n",
       "      <td>0.654429</td>\n",
       "      <td>0.456512</td>\n",
       "      <td>0.724884</td>\n",
       "      <td>{'alpha': 0.1, 'class_prior': None, 'fit_prior...</td>\n",
       "      <td>train</td>\n",
       "    </tr>\n",
       "    <tr>\n",
       "      <th>1</th>\n",
       "      <td>KNN</td>\n",
       "      <td>sentence-bert</td>\n",
       "      <td>393.076175</td>\n",
       "      <td>0.400595</td>\n",
       "      <td>0.768071</td>\n",
       "      <td>0.483918</td>\n",
       "      <td>0.387373</td>\n",
       "      <td>{'algorithm': 'ball_tree', 'leaf_size': 30, 'm...</td>\n",
       "      <td>train</td>\n",
       "    </tr>\n",
       "    <tr>\n",
       "      <th>2</th>\n",
       "      <td>SVM</td>\n",
       "      <td>sentence-bert</td>\n",
       "      <td>2404.948440</td>\n",
       "      <td>0.457325</td>\n",
       "      <td>0.812407</td>\n",
       "      <td>0.547430</td>\n",
       "      <td>0.431200</td>\n",
       "      <td>{'C': 1, 'break_ties': False, 'cache_size': 20...</td>\n",
       "      <td>train</td>\n",
       "    </tr>\n",
       "    <tr>\n",
       "      <th>3</th>\n",
       "      <td>Naive Bayes</td>\n",
       "      <td>tf-idf</td>\n",
       "      <td>2.609436</td>\n",
       "      <td>0.393936</td>\n",
       "      <td>0.662140</td>\n",
       "      <td>0.349091</td>\n",
       "      <td>0.638552</td>\n",
       "      <td>{'alpha': 0.1, 'class_prior': None, 'fit_prior...</td>\n",
       "      <td>train</td>\n",
       "    </tr>\n",
       "    <tr>\n",
       "      <th>4</th>\n",
       "      <td>KNN</td>\n",
       "      <td>tf-idf</td>\n",
       "      <td>290.852264</td>\n",
       "      <td>0.298215</td>\n",
       "      <td>0.739157</td>\n",
       "      <td>0.381453</td>\n",
       "      <td>0.304045</td>\n",
       "      <td>{'algorithm': 'auto', 'leaf_size': 30, 'metric...</td>\n",
       "      <td>train</td>\n",
       "    </tr>\n",
       "    <tr>\n",
       "      <th>5</th>\n",
       "      <td>SVM</td>\n",
       "      <td>tf-idf</td>\n",
       "      <td>3026.318996</td>\n",
       "      <td>0.455142</td>\n",
       "      <td>0.818277</td>\n",
       "      <td>0.532137</td>\n",
       "      <td>0.434357</td>\n",
       "      <td>{'C': 10, 'break_ties': False, 'cache_size': 2...</td>\n",
       "      <td>train</td>\n",
       "    </tr>\n",
       "    <tr>\n",
       "      <th>0</th>\n",
       "      <td>Naive Bayes</td>\n",
       "      <td>sentence-bert</td>\n",
       "      <td>3.305379</td>\n",
       "      <td>0.348682</td>\n",
       "      <td>0.652833</td>\n",
       "      <td>0.364981</td>\n",
       "      <td>0.379840</td>\n",
       "      <td>{'alpha': 0.1, 'class_prior': None, 'fit_prior...</td>\n",
       "      <td>test</td>\n",
       "    </tr>\n",
       "    <tr>\n",
       "      <th>1</th>\n",
       "      <td>KNN</td>\n",
       "      <td>sentence-bert</td>\n",
       "      <td>393.076175</td>\n",
       "      <td>0.288586</td>\n",
       "      <td>0.657803</td>\n",
       "      <td>0.350193</td>\n",
       "      <td>0.281707</td>\n",
       "      <td>{'algorithm': 'ball_tree', 'leaf_size': 30, 'm...</td>\n",
       "      <td>test</td>\n",
       "    </tr>\n",
       "    <tr>\n",
       "      <th>2</th>\n",
       "      <td>SVM</td>\n",
       "      <td>sentence-bert</td>\n",
       "      <td>2404.948440</td>\n",
       "      <td>0.286930</td>\n",
       "      <td>0.672465</td>\n",
       "      <td>0.369435</td>\n",
       "      <td>0.263874</td>\n",
       "      <td>{'C': 1, 'break_ties': False, 'cache_size': 20...</td>\n",
       "      <td>test</td>\n",
       "    </tr>\n",
       "    <tr>\n",
       "      <th>3</th>\n",
       "      <td>Naive Bayes</td>\n",
       "      <td>tf-idf</td>\n",
       "      <td>2.609436</td>\n",
       "      <td>0.008638</td>\n",
       "      <td>0.151093</td>\n",
       "      <td>0.007500</td>\n",
       "      <td>0.011887</td>\n",
       "      <td>{'alpha': 0.1, 'class_prior': None, 'fit_prior...</td>\n",
       "      <td>test</td>\n",
       "    </tr>\n",
       "    <tr>\n",
       "      <th>4</th>\n",
       "      <td>KNN</td>\n",
       "      <td>tf-idf</td>\n",
       "      <td>290.852264</td>\n",
       "      <td>0.010258</td>\n",
       "      <td>0.175944</td>\n",
       "      <td>0.012693</td>\n",
       "      <td>0.013012</td>\n",
       "      <td>{'algorithm': 'auto', 'leaf_size': 30, 'metric...</td>\n",
       "      <td>test</td>\n",
       "    </tr>\n",
       "    <tr>\n",
       "      <th>5</th>\n",
       "      <td>SVM</td>\n",
       "      <td>tf-idf</td>\n",
       "      <td>3026.318996</td>\n",
       "      <td>0.012131</td>\n",
       "      <td>0.192097</td>\n",
       "      <td>0.011680</td>\n",
       "      <td>0.015410</td>\n",
       "      <td>{'C': 10, 'break_ties': False, 'cache_size': 2...</td>\n",
       "      <td>test</td>\n",
       "    </tr>\n",
       "  </tbody>\n",
       "</table>\n",
       "</div>"
      ],
      "text/plain": [
       "    classifier      embedding  execution_time        f1  accuracy  precision  \\\n",
       "0  Naive Bayes  sentence-bert        3.305379  0.514049  0.654429   0.456512   \n",
       "1          KNN  sentence-bert      393.076175  0.400595  0.768071   0.483918   \n",
       "2          SVM  sentence-bert     2404.948440  0.457325  0.812407   0.547430   \n",
       "3  Naive Bayes         tf-idf        2.609436  0.393936  0.662140   0.349091   \n",
       "4          KNN         tf-idf      290.852264  0.298215  0.739157   0.381453   \n",
       "5          SVM         tf-idf     3026.318996  0.455142  0.818277   0.532137   \n",
       "0  Naive Bayes  sentence-bert        3.305379  0.348682  0.652833   0.364981   \n",
       "1          KNN  sentence-bert      393.076175  0.288586  0.657803   0.350193   \n",
       "2          SVM  sentence-bert     2404.948440  0.286930  0.672465   0.369435   \n",
       "3  Naive Bayes         tf-idf        2.609436  0.008638  0.151093   0.007500   \n",
       "4          KNN         tf-idf      290.852264  0.010258  0.175944   0.012693   \n",
       "5          SVM         tf-idf     3026.318996  0.012131  0.192097   0.011680   \n",
       "\n",
       "     recall                                              param   type  \n",
       "0  0.724884  {'alpha': 0.1, 'class_prior': None, 'fit_prior...  train  \n",
       "1  0.387373  {'algorithm': 'ball_tree', 'leaf_size': 30, 'm...  train  \n",
       "2  0.431200  {'C': 1, 'break_ties': False, 'cache_size': 20...  train  \n",
       "3  0.638552  {'alpha': 0.1, 'class_prior': None, 'fit_prior...  train  \n",
       "4  0.304045  {'algorithm': 'auto', 'leaf_size': 30, 'metric...  train  \n",
       "5  0.434357  {'C': 10, 'break_ties': False, 'cache_size': 2...  train  \n",
       "0  0.379840  {'alpha': 0.1, 'class_prior': None, 'fit_prior...   test  \n",
       "1  0.281707  {'algorithm': 'ball_tree', 'leaf_size': 30, 'm...   test  \n",
       "2  0.263874  {'C': 1, 'break_ties': False, 'cache_size': 20...   test  \n",
       "3  0.011887  {'alpha': 0.1, 'class_prior': None, 'fit_prior...   test  \n",
       "4  0.013012  {'algorithm': 'auto', 'leaf_size': 30, 'metric...   test  \n",
       "5  0.015410  {'C': 10, 'break_ties': False, 'cache_size': 2...   test  "
      ]
     },
     "execution_count": 54,
     "metadata": {},
     "output_type": "execute_result"
    }
   ],
   "source": [
    "result.sort"
   ]
  },
  {
   "cell_type": "code",
   "execution_count": 27,
   "metadata": {},
   "outputs": [
    {
     "name": "stdout",
     "output_type": "stream",
     "text": [
      "F-statistic: 1.8432055749128926\n",
      "P-value: 0.24611736975726062\n",
      "Não há evidências estatísticas de diferença nas médias.\n"
     ]
    }
   ],
   "source": [
    "from scipy.stats import f_oneway\n",
    "\n",
    "f_statistic, p_value = f_oneway([0.51, 0.40, 0.45], [0.39, 0.29, 0.45])\n",
    "\n",
    "print(\"F-statistic:\", f_statistic)\n",
    "print(\"P-value:\", p_value)\n",
    "\n",
    "alpha = 0.05\n",
    "if p_value < alpha:\n",
    "    print(\"A diferença nas médias é estatisticamente significativa.\")\n",
    "else:\n",
    "    print(\"Não há evidências estatísticas de diferença nas médias.\")"
   ]
  },
  {
   "cell_type": "code",
   "execution_count": null,
   "metadata": {},
   "outputs": [],
   "source": []
  }
 ],
 "metadata": {
  "kernelspec": {
   "display_name": "Python 3",
   "language": "python",
   "name": "python3"
  },
  "language_info": {
   "codemirror_mode": {
    "name": "ipython",
    "version": 3
   },
   "file_extension": ".py",
   "mimetype": "text/x-python",
   "name": "python",
   "nbconvert_exporter": "python",
   "pygments_lexer": "ipython3",
   "version": "3.8.18"
  }
 },
 "nbformat": 4,
 "nbformat_minor": 2
}
