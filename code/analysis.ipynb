{
 "cells": [
  {
   "cell_type": "code",
   "execution_count": 147,
   "metadata": {},
   "outputs": [
    {
     "name": "stderr",
     "output_type": "stream",
     "text": [
      "[nltk_data] Downloading package stopwords to\n",
      "[nltk_data]     C:\\Users\\annap\\AppData\\Roaming\\nltk_data...\n",
      "[nltk_data]   Package stopwords is already up-to-date!\n"
     ]
    },
    {
     "data": {
      "text/plain": [
       "True"
      ]
     },
     "execution_count": 147,
     "metadata": {},
     "output_type": "execute_result"
    }
   ],
   "source": [
    "from bs4 import BeautifulSoup\n",
    "from collections import Counter\n",
    "import nltk \n",
    "from nltk.corpus import stopwords\n",
    "import os\n",
    "import pandas as pd\n",
    "import numpy as np\n",
    "import string\n",
    "import re\n",
    "nltk.download('stopwords')"
   ]
  },
  {
   "cell_type": "code",
   "execution_count": 93,
   "metadata": {},
   "outputs": [],
   "source": [
    "path_train = \"../data/training\"\n",
    "path_test = \"../data/test\""
   ]
  },
  {
   "cell_type": "markdown",
   "metadata": {},
   "source": [
    "# Read files"
   ]
  },
  {
   "cell_type": "code",
   "execution_count": 94,
   "metadata": {},
   "outputs": [],
   "source": [
    "def read_files(main_path:str)->pd.DataFrame:\n",
    "\n",
    "    path_list = []\n",
    "    file_list = []\n",
    "    content_list = []\n",
    "\n",
    "    for path in os.listdir(main_path):\n",
    "        _path = os.path.join(main_path, path)\n",
    "        if os.path.isdir(_path):\n",
    "            for file in os.listdir(_path):\n",
    "                _file = os.path.join(_path, file)\n",
    "                if os.path.isfile(_file):\n",
    "                    with open(_file, 'r',  errors='ignore') as f:\n",
    "                        content = f.read()\n",
    "                    path_list.append(path)\n",
    "                    file_list.append(file)\n",
    "                    content_list.append(content)\n",
    "\n",
    "    return pd.DataFrame( { 'number_file': file_list, 'classe': path_list,  'content': content_list})"
   ]
  },
  {
   "cell_type": "code",
   "execution_count": 95,
   "metadata": {},
   "outputs": [
    {
     "data": {
      "text/html": [
       "<div>\n",
       "<style scoped>\n",
       "    .dataframe tbody tr th:only-of-type {\n",
       "        vertical-align: middle;\n",
       "    }\n",
       "\n",
       "    .dataframe tbody tr th {\n",
       "        vertical-align: top;\n",
       "    }\n",
       "\n",
       "    .dataframe thead th {\n",
       "        text-align: right;\n",
       "    }\n",
       "</style>\n",
       "<table border=\"1\" class=\"dataframe\">\n",
       "  <thead>\n",
       "    <tr style=\"text-align: right;\">\n",
       "      <th></th>\n",
       "      <th>number_file</th>\n",
       "      <th>classe</th>\n",
       "      <th>content</th>\n",
       "    </tr>\n",
       "  </thead>\n",
       "  <tbody>\n",
       "    <tr>\n",
       "      <th>0</th>\n",
       "      <td>5</td>\n",
       "      <td>acq</td>\n",
       "      <td>\\n\\nCOMPUTER TERMINAL SYSTEMS &lt;CPML&gt; COMPLETES...</td>\n",
       "    </tr>\n",
       "    <tr>\n",
       "      <th>1</th>\n",
       "      <td>7</td>\n",
       "      <td>acq</td>\n",
       "      <td>\\n\\nOHIO MATTRESS &lt;OMT&gt; MAY HAVE LOWER 1ST QTR...</td>\n",
       "    </tr>\n",
       "    <tr>\n",
       "      <th>2</th>\n",
       "      <td>27</td>\n",
       "      <td>acq</td>\n",
       "      <td>\\n\\nMCLEAN'S &lt;MII&gt; U.S. LINES SETS ASSET TRANS...</td>\n",
       "    </tr>\n",
       "    <tr>\n",
       "      <th>3</th>\n",
       "      <td>28</td>\n",
       "      <td>acq</td>\n",
       "      <td>\\n\\nCHEMLAWN &lt;CHEM&gt; RISES ON HOPES FOR HIGHER ...</td>\n",
       "    </tr>\n",
       "    <tr>\n",
       "      <th>4</th>\n",
       "      <td>44</td>\n",
       "      <td>acq</td>\n",
       "      <td>\\n\\n&lt;COFAB INC&gt; BUYS GULFEX FOR UNDISCLOSED AM...</td>\n",
       "    </tr>\n",
       "  </tbody>\n",
       "</table>\n",
       "</div>"
      ],
      "text/plain": [
       "   number_file classe                                            content\n",
       "0            5    acq  \\n\\nCOMPUTER TERMINAL SYSTEMS <CPML> COMPLETES...\n",
       "1            7    acq  \\n\\nOHIO MATTRESS <OMT> MAY HAVE LOWER 1ST QTR...\n",
       "2           27    acq  \\n\\nMCLEAN'S <MII> U.S. LINES SETS ASSET TRANS...\n",
       "3           28    acq  \\n\\nCHEMLAWN <CHEM> RISES ON HOPES FOR HIGHER ...\n",
       "4           44    acq  \\n\\n<COFAB INC> BUYS GULFEX FOR UNDISCLOSED AM..."
      ]
     },
     "execution_count": 95,
     "metadata": {},
     "output_type": "execute_result"
    }
   ],
   "source": [
    "df_train = read_files(path_train)\n",
    "df_train = df_train.astype({'number_file': int, 'content':str})\n",
    "df_train.head()"
   ]
  },
  {
   "cell_type": "code",
   "execution_count": 96,
   "metadata": {},
   "outputs": [
    {
     "data": {
      "text/html": [
       "<div>\n",
       "<style scoped>\n",
       "    .dataframe tbody tr th:only-of-type {\n",
       "        vertical-align: middle;\n",
       "    }\n",
       "\n",
       "    .dataframe tbody tr th {\n",
       "        vertical-align: top;\n",
       "    }\n",
       "\n",
       "    .dataframe thead th {\n",
       "        text-align: right;\n",
       "    }\n",
       "</style>\n",
       "<table border=\"1\" class=\"dataframe\">\n",
       "  <thead>\n",
       "    <tr style=\"text-align: right;\">\n",
       "      <th></th>\n",
       "      <th>number_file</th>\n",
       "      <th>classe</th>\n",
       "      <th>content</th>\n",
       "    </tr>\n",
       "  </thead>\n",
       "  <tbody>\n",
       "    <tr>\n",
       "      <th>0</th>\n",
       "      <td>9613</td>\n",
       "      <td>acq</td>\n",
       "      <td>\\n\\nSUMITOMO BANK AIMS AT QUICK RECOVERY FROM ...</td>\n",
       "    </tr>\n",
       "    <tr>\n",
       "      <th>1</th>\n",
       "      <td>9618</td>\n",
       "      <td>acq</td>\n",
       "      <td>\\n\\nBOND CORP STILL CONSIDERING ATLAS MINING B...</td>\n",
       "    </tr>\n",
       "    <tr>\n",
       "      <th>2</th>\n",
       "      <td>9628</td>\n",
       "      <td>acq</td>\n",
       "      <td>\\n\\nCRA SOLD FORREST GOLD FOR 76 MLN DLRS - WH...</td>\n",
       "    </tr>\n",
       "    <tr>\n",
       "      <th>3</th>\n",
       "      <td>9643</td>\n",
       "      <td>acq</td>\n",
       "      <td>\\n\\nANHEUSER-BUSCH JOINS BID FOR SAN MIGUEL\\n\\...</td>\n",
       "    </tr>\n",
       "    <tr>\n",
       "      <th>4</th>\n",
       "      <td>9653</td>\n",
       "      <td>acq</td>\n",
       "      <td>\\n\\nMONIER SAYS BRITAIN'S REDLAND MAY BID FOR ...</td>\n",
       "    </tr>\n",
       "  </tbody>\n",
       "</table>\n",
       "</div>"
      ],
      "text/plain": [
       "   number_file classe                                            content\n",
       "0         9613    acq  \\n\\nSUMITOMO BANK AIMS AT QUICK RECOVERY FROM ...\n",
       "1         9618    acq  \\n\\nBOND CORP STILL CONSIDERING ATLAS MINING B...\n",
       "2         9628    acq  \\n\\nCRA SOLD FORREST GOLD FOR 76 MLN DLRS - WH...\n",
       "3         9643    acq  \\n\\nANHEUSER-BUSCH JOINS BID FOR SAN MIGUEL\\n\\...\n",
       "4         9653    acq  \\n\\nMONIER SAYS BRITAIN'S REDLAND MAY BID FOR ..."
      ]
     },
     "execution_count": 96,
     "metadata": {},
     "output_type": "execute_result"
    }
   ],
   "source": [
    "df_test = read_files(path_test)\n",
    "df_test = df_test.astype({'number_file': int, 'content':str})\n",
    "df_test.head()"
   ]
  },
  {
   "cell_type": "markdown",
   "metadata": {},
   "source": [
    "# Preprocessing\n",
    "\n",
    "\n",
    "In this case we will use 2 approaches to represent these documents, TF-IDF and SBERT, therefore, using TF-IDF we will use the following preprocessing:\n",
    "\n",
    "    - [] convert text to lowercase letters\n",
    "    - [] removing numbers\n",
    "    - [] removing symbols\n",
    "    - [] removing tags (HTML/XML)\n",
    "    - [] removing urls\n",
    "    - [] removing stop words\n",
    "    \n",
    "To generate these embeddings using Language Models, we will not use any preprocessing and wait for the model to make the best decision."
   ]
  },
  {
   "cell_type": "code",
   "execution_count": 128,
   "metadata": {},
   "outputs": [],
   "source": [
    "pp_config = { 'convert': 'lower', \n",
    "              'numbers': True,\n",
    "              'split_line':True,\n",
    "              'stop_words': True,     \n",
    "              'symbols':True,       \n",
    "              'tags': True,\n",
    "              'url': True,\n",
    "            }\n",
    "\n",
    "PUNCT_TO_REMOVE = string.punctuation\n",
    "def remove_punctuation(text:str):\n",
    "    return text.translate(str.maketrans('', '', PUNCT_TO_REMOVE))\n",
    "\n",
    "STOPWORDS = set(stopwords.words('english'))\n",
    "def remove_stopwords(text):\n",
    "    return \" \".join([word for word in str(text).split() if word not in STOPWORDS])\n",
    "\n",
    "def remove_html(text):\n",
    "    return BeautifulSoup(text, \"html\").text\n",
    "\n",
    "def remove_split_line(text:str):\n",
    "    return re.sub(r'[\\n\\t]', '', text)\n",
    "\n",
    "def remove_numbers(text):\n",
    "    return re.sub(r'\\d', '', text)\n",
    "\n",
    "def remove_urls(text):\n",
    "    url_pattern = re.compile(r'https?://\\S+|www\\.\\S+')\n",
    "    return url_pattern.sub(r'', text)\n",
    "\n",
    "def preprocess_english_text(text:str, config:dict):\n",
    "\n",
    "    if config['convert'] == 'lower':\n",
    "        text = text.lower()\n",
    "    if config['numbers'] == True:\n",
    "        text = remove_numbers(text)\n",
    "    if config['split_line'] == True:\n",
    "        text = remove_split_line(text)\n",
    "    if config['stop_words'] == True:   \n",
    "        text = remove_stopwords(text)\n",
    "    if config['symbols'] == True:\n",
    "        text = remove_punctuation(text)\n",
    "    if config['tags'] == True:\n",
    "        text = remove_html(text)\n",
    "    if config['url'] == True:\n",
    "        text = remove_urls(text)\n",
    "    \n",
    "    return text\n",
    "\n",
    "def count_words(values:np.array):\n",
    "    \n",
    "    cnt = Counter()\n",
    "    for text in values:\n",
    "        for word in text.split():\n",
    "            cnt[word] += 1\n",
    "    return cnt"
   ]
  },
  {
   "cell_type": "code",
   "execution_count": 168,
   "metadata": {},
   "outputs": [],
   "source": [
    "# Remover os mais comuns e os raros,\n",
    "# baseados somente nas instâncias de treino, pq as de teste, é como se elas não existissem\n",
    "cnt = count_words(df_train[\"processed\"].values)\n",
    "RAREWORDS = set([w for w, w_count in cnt.items() if w_count == 1])\n",
    "COMMONWORDS = set([w for (w, w_count) in cnt.most_common()[:10]])\n",
    "\n",
    "df_train['processed2'] = df_train['processed'].apply( lambda x : ' '.join([word for word in x.split() if word not in RAREWORDS]))\n",
    "df_train['processed2'] = df_train['processed'].apply( lambda x : ' '.join([word for word in x.split() if word not in COMMONWORDS]))"
   ]
  },
  {
   "cell_type": "code",
   "execution_count": 170,
   "metadata": {},
   "outputs": [
    {
     "data": {
      "text/html": [
       "<div>\n",
       "<style scoped>\n",
       "    .dataframe tbody tr th:only-of-type {\n",
       "        vertical-align: middle;\n",
       "    }\n",
       "\n",
       "    .dataframe tbody tr th {\n",
       "        vertical-align: top;\n",
       "    }\n",
       "\n",
       "    .dataframe thead th {\n",
       "        text-align: right;\n",
       "    }\n",
       "</style>\n",
       "<table border=\"1\" class=\"dataframe\">\n",
       "  <thead>\n",
       "    <tr style=\"text-align: right;\">\n",
       "      <th></th>\n",
       "      <th>number_file</th>\n",
       "      <th>classe</th>\n",
       "      <th>content</th>\n",
       "      <th>processed</th>\n",
       "      <th>processed2</th>\n",
       "    </tr>\n",
       "  </thead>\n",
       "  <tbody>\n",
       "    <tr>\n",
       "      <th>0</th>\n",
       "      <td>5</td>\n",
       "      <td>acq</td>\n",
       "      <td>\\n\\nCOMPUTER TERMINAL SYSTEMS &lt;CPML&gt; COMPLETES...</td>\n",
       "      <td>computer terminal systems cpml completes sale ...</td>\n",
       "      <td>computer terminal systems cpml completes sale ...</td>\n",
       "    </tr>\n",
       "    <tr>\n",
       "      <th>1</th>\n",
       "      <td>7</td>\n",
       "      <td>acq</td>\n",
       "      <td>\\n\\nOHIO MATTRESS &lt;OMT&gt; MAY HAVE LOWER 1ST QTR...</td>\n",
       "      <td>ohio mattress omt may lower st qtr net clevela...</td>\n",
       "      <td>ohio mattress omt may lower st qtr net clevela...</td>\n",
       "    </tr>\n",
       "    <tr>\n",
       "      <th>2</th>\n",
       "      <td>27</td>\n",
       "      <td>acq</td>\n",
       "      <td>\\n\\nMCLEAN'S &lt;MII&gt; U.S. LINES SETS ASSET TRANS...</td>\n",
       "      <td>mcleans mii us lines sets asset transfer cranf...</td>\n",
       "      <td>mcleans mii lines sets asset transfer cranford...</td>\n",
       "    </tr>\n",
       "    <tr>\n",
       "      <th>3</th>\n",
       "      <td>28</td>\n",
       "      <td>acq</td>\n",
       "      <td>\\n\\nCHEMLAWN &lt;CHEM&gt; RISES ON HOPES FOR HIGHER ...</td>\n",
       "      <td>chemlawn chem rises hopes higher bidsauthor ca...</td>\n",
       "      <td>chemlawn chem rises hopes higher bidsauthor ca...</td>\n",
       "    </tr>\n",
       "    <tr>\n",
       "      <th>4</th>\n",
       "      <td>44</td>\n",
       "      <td>acq</td>\n",
       "      <td>\\n\\n&lt;COFAB INC&gt; BUYS GULFEX FOR UNDISCLOSED AM...</td>\n",
       "      <td>cofab inc buys gulfex undisclosed amount houst...</td>\n",
       "      <td>cofab inc buys gulfex undisclosed amount houst...</td>\n",
       "    </tr>\n",
       "  </tbody>\n",
       "</table>\n",
       "</div>"
      ],
      "text/plain": [
       "   number_file classe                                            content  \\\n",
       "0            5    acq  \\n\\nCOMPUTER TERMINAL SYSTEMS <CPML> COMPLETES...   \n",
       "1            7    acq  \\n\\nOHIO MATTRESS <OMT> MAY HAVE LOWER 1ST QTR...   \n",
       "2           27    acq  \\n\\nMCLEAN'S <MII> U.S. LINES SETS ASSET TRANS...   \n",
       "3           28    acq  \\n\\nCHEMLAWN <CHEM> RISES ON HOPES FOR HIGHER ...   \n",
       "4           44    acq  \\n\\n<COFAB INC> BUYS GULFEX FOR UNDISCLOSED AM...   \n",
       "\n",
       "                                           processed  \\\n",
       "0  computer terminal systems cpml completes sale ...   \n",
       "1  ohio mattress omt may lower st qtr net clevela...   \n",
       "2  mcleans mii us lines sets asset transfer cranf...   \n",
       "3  chemlawn chem rises hopes higher bidsauthor ca...   \n",
       "4  cofab inc buys gulfex undisclosed amount houst...   \n",
       "\n",
       "                                          processed2  \n",
       "0  computer terminal systems cpml completes sale ...  \n",
       "1  ohio mattress omt may lower st qtr net clevela...  \n",
       "2  mcleans mii lines sets asset transfer cranford...  \n",
       "3  chemlawn chem rises hopes higher bidsauthor ca...  \n",
       "4  cofab inc buys gulfex undisclosed amount houst...  "
      ]
     },
     "execution_count": 170,
     "metadata": {},
     "output_type": "execute_result"
    }
   ],
   "source": [
    "df_train.head()"
   ]
  },
  {
   "cell_type": "markdown",
   "metadata": {},
   "source": [
    "# Encoding"
   ]
  },
  {
   "cell_type": "code",
   "execution_count": 171,
   "metadata": {},
   "outputs": [
    {
     "data": {
      "text/plain": [
       "(11413, 5)"
      ]
     },
     "execution_count": 171,
     "metadata": {},
     "output_type": "execute_result"
    }
   ],
   "source": [
    "df_train.shape"
   ]
  },
  {
   "cell_type": "code",
   "execution_count": 172,
   "metadata": {},
   "outputs": [
    {
     "data": {
      "text/plain": [
       "9598"
      ]
     },
     "execution_count": 172,
     "metadata": {},
     "output_type": "execute_result"
    }
   ],
   "source": [
    "df_train['number_file'].nunique()"
   ]
  },
  {
   "cell_type": "code",
   "execution_count": 179,
   "metadata": {},
   "outputs": [
    {
     "data": {
      "text/html": [
       "<div>\n",
       "<style scoped>\n",
       "    .dataframe tbody tr th:only-of-type {\n",
       "        vertical-align: middle;\n",
       "    }\n",
       "\n",
       "    .dataframe tbody tr th {\n",
       "        vertical-align: top;\n",
       "    }\n",
       "\n",
       "    .dataframe thead th {\n",
       "        text-align: right;\n",
       "    }\n",
       "</style>\n",
       "<table border=\"1\" class=\"dataframe\">\n",
       "  <thead>\n",
       "    <tr style=\"text-align: right;\">\n",
       "      <th></th>\n",
       "      <th>number_file</th>\n",
       "      <th>classe</th>\n",
       "    </tr>\n",
       "  </thead>\n",
       "  <tbody>\n",
       "    <tr>\n",
       "      <th>0</th>\n",
       "      <td>5</td>\n",
       "      <td>acq</td>\n",
       "    </tr>\n",
       "    <tr>\n",
       "      <th>1</th>\n",
       "      <td>7</td>\n",
       "      <td>acq</td>\n",
       "    </tr>\n",
       "    <tr>\n",
       "      <th>2</th>\n",
       "      <td>27</td>\n",
       "      <td>acq</td>\n",
       "    </tr>\n",
       "    <tr>\n",
       "      <th>3</th>\n",
       "      <td>28</td>\n",
       "      <td>acq</td>\n",
       "    </tr>\n",
       "    <tr>\n",
       "      <th>4</th>\n",
       "      <td>44</td>\n",
       "      <td>acq</td>\n",
       "    </tr>\n",
       "    <tr>\n",
       "      <th>...</th>\n",
       "      <td>...</td>\n",
       "      <td>...</td>\n",
       "    </tr>\n",
       "    <tr>\n",
       "      <th>11408</th>\n",
       "      <td>7379</td>\n",
       "      <td>zinc</td>\n",
       "    </tr>\n",
       "    <tr>\n",
       "      <th>11409</th>\n",
       "      <td>7855</td>\n",
       "      <td>zinc</td>\n",
       "    </tr>\n",
       "    <tr>\n",
       "      <th>11410</th>\n",
       "      <td>8905</td>\n",
       "      <td>zinc</td>\n",
       "    </tr>\n",
       "    <tr>\n",
       "      <th>11411</th>\n",
       "      <td>9423</td>\n",
       "      <td>zinc</td>\n",
       "    </tr>\n",
       "    <tr>\n",
       "      <th>11412</th>\n",
       "      <td>9544</td>\n",
       "      <td>zinc</td>\n",
       "    </tr>\n",
       "  </tbody>\n",
       "</table>\n",
       "<p>11413 rows × 2 columns</p>\n",
       "</div>"
      ],
      "text/plain": [
       "       number_file classe\n",
       "0                5    acq\n",
       "1                7    acq\n",
       "2               27    acq\n",
       "3               28    acq\n",
       "4               44    acq\n",
       "...            ...    ...\n",
       "11408         7379   zinc\n",
       "11409         7855   zinc\n",
       "11410         8905   zinc\n",
       "11411         9423   zinc\n",
       "11412         9544   zinc\n",
       "\n",
       "[11413 rows x 2 columns]"
      ]
     },
     "execution_count": 179,
     "metadata": {},
     "output_type": "execute_result"
    }
   ],
   "source": [
    "df_train[[\"number_file\", \"classe\"]].drop_duplicates()"
   ]
  },
  {
   "cell_type": "code",
   "execution_count": 167,
   "metadata": {},
   "outputs": [
    {
     "data": {
      "text/plain": [
       "{'billion', 'cts', 'dlrs', 'march', 'mln', 'pct', 'said', 'us', 'vs', 'year'}"
      ]
     },
     "execution_count": 167,
     "metadata": {},
     "output_type": "execute_result"
    }
   ],
   "source": [
    "RAREWORDS = set([w for w, w_count in cnt.items() if w_count == 1])\n",
    "\n"
   ]
  },
  {
   "cell_type": "code",
   "execution_count": null,
   "metadata": {},
   "outputs": [],
   "source": []
  }
 ],
 "metadata": {
  "kernelspec": {
   "display_name": "Python 3",
   "language": "python",
   "name": "python3"
  },
  "language_info": {
   "codemirror_mode": {
    "name": "ipython",
    "version": 3
   },
   "file_extension": ".py",
   "mimetype": "text/x-python",
   "name": "python",
   "nbconvert_exporter": "python",
   "pygments_lexer": "ipython3",
   "version": "3.8.18"
  }
 },
 "nbformat": 4,
 "nbformat_minor": 2
}
